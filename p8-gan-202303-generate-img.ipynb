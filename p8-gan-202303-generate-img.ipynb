{
 "cells": [
  {
   "cell_type": "code",
   "execution_count": 1,
   "id": "05b2c7b1",
   "metadata": {
    "_cell_guid": "b1076dfc-b9ad-4769-8c92-a6c4dae69d19",
    "_uuid": "8f2839f25d086af736a60e9eeb907d3b93b6e0e5",
    "execution": {
     "iopub.execute_input": "2023-03-25T00:19:31.252409Z",
     "iopub.status.busy": "2023-03-25T00:19:31.251735Z",
     "iopub.status.idle": "2023-03-25T00:19:31.272068Z",
     "shell.execute_reply": "2023-03-25T00:19:31.270522Z"
    },
    "papermill": {
     "duration": 0.031566,
     "end_time": "2023-03-25T00:19:31.274965",
     "exception": false,
     "start_time": "2023-03-25T00:19:31.243399",
     "status": "completed"
    },
    "tags": []
   },
   "outputs": [
    {
     "data": {
      "text/plain": [
       "\"\\nimport os\\nfor dirname, _, filenames in os.walk('/kaggle/input'):\\n    for filename in filenames:\\n        print(os.path.join(dirname, filename))\""
      ]
     },
     "execution_count": 1,
     "metadata": {},
     "output_type": "execute_result"
    }
   ],
   "source": [
    "# This Python 3 environment comes with many helpful analytics libraries installed\n",
    "# It is defined by the kaggle/python Docker image: https://github.com/kaggle/docker-python\n",
    "# For example, here's several helpful packages to load\n",
    "\n",
    "import numpy as np # linear algebra\n",
    "import pandas as pd # data processing, CSV file I/O (e.g. pd.read_csv)\n",
    "\n",
    "# Input data files are available in the read-only \"../input/\" directory\n",
    "# For example, running this (by clicking run or pressing Shift+Enter) will list all files under the input directory\n",
    "\n",
    "\"\"\"\n",
    "import os\n",
    "for dirname, _, filenames in os.walk('/kaggle/input'):\n",
    "    for filename in filenames:\n",
    "        print(os.path.join(dirname, filename))\"\"\"\n",
    "\n",
    "# You can write up to 20GB to the current directory (/kaggle/working/) that gets preserved as output when you create a version using \"Save & Run All\" \n",
    "# You can also write temporary files to /kaggle/temp/, but they won't be saved outside of the current session"
   ]
  },
  {
   "cell_type": "code",
   "execution_count": 2,
   "id": "0f490700",
   "metadata": {
    "execution": {
     "iopub.execute_input": "2023-03-25T00:19:31.286241Z",
     "iopub.status.busy": "2023-03-25T00:19:31.285782Z",
     "iopub.status.idle": "2023-03-25T00:19:31.293374Z",
     "shell.execute_reply": "2023-03-25T00:19:31.292090Z"
    },
    "papermill": {
     "duration": 0.016262,
     "end_time": "2023-03-25T00:19:31.295921",
     "exception": false,
     "start_time": "2023-03-25T00:19:31.279659",
     "status": "completed"
    },
    "tags": []
   },
   "outputs": [
    {
     "data": {
      "text/plain": [
       "'/kaggle/working'"
      ]
     },
     "execution_count": 2,
     "metadata": {},
     "output_type": "execute_result"
    }
   ],
   "source": [
    "import os\n",
    "os.getcwd()"
   ]
  },
  {
   "cell_type": "code",
   "execution_count": 3,
   "id": "fd17ec5b",
   "metadata": {
    "execution": {
     "iopub.execute_input": "2023-03-25T00:19:31.307460Z",
     "iopub.status.busy": "2023-03-25T00:19:31.306976Z",
     "iopub.status.idle": "2023-03-25T00:19:31.315810Z",
     "shell.execute_reply": "2023-03-25T00:19:31.314268Z"
    },
    "papermill": {
     "duration": 0.018181,
     "end_time": "2023-03-25T00:19:31.318754",
     "exception": false,
     "start_time": "2023-03-25T00:19:31.300573",
     "status": "completed"
    },
    "tags": []
   },
   "outputs": [
    {
     "data": {
      "text/plain": [
       "['__notebook__.ipynb']"
      ]
     },
     "execution_count": 3,
     "metadata": {},
     "output_type": "execute_result"
    }
   ],
   "source": [
    "os.listdir()"
   ]
  },
  {
   "cell_type": "code",
   "execution_count": 4,
   "id": "75740670",
   "metadata": {
    "execution": {
     "iopub.execute_input": "2023-03-25T00:19:31.330958Z",
     "iopub.status.busy": "2023-03-25T00:19:31.330519Z",
     "iopub.status.idle": "2023-03-25T00:19:31.338470Z",
     "shell.execute_reply": "2023-03-25T00:19:31.337352Z"
    },
    "papermill": {
     "duration": 0.017124,
     "end_time": "2023-03-25T00:19:31.340969",
     "exception": false,
     "start_time": "2023-03-25T00:19:31.323845",
     "status": "completed"
    },
    "tags": []
   },
   "outputs": [
    {
     "data": {
      "text/plain": [
       "['p8-gan-202303-savedmodel', 'gan-getting-started']"
      ]
     },
     "execution_count": 4,
     "metadata": {},
     "output_type": "execute_result"
    }
   ],
   "source": [
    "os.listdir('/kaggle/input')"
   ]
  },
  {
   "cell_type": "code",
   "execution_count": 5,
   "id": "16c8d4fe",
   "metadata": {
    "execution": {
     "iopub.execute_input": "2023-03-25T00:19:31.352928Z",
     "iopub.status.busy": "2023-03-25T00:19:31.352494Z",
     "iopub.status.idle": "2023-03-25T00:19:31.360910Z",
     "shell.execute_reply": "2023-03-25T00:19:31.358891Z"
    },
    "papermill": {
     "duration": 0.018073,
     "end_time": "2023-03-25T00:19:31.363951",
     "exception": false,
     "start_time": "2023-03-25T00:19:31.345878",
     "status": "completed"
    },
    "tags": []
   },
   "outputs": [
    {
     "name": "stdout",
     "output_type": "stream",
     "text": [
      "path:/kaggle/working\n",
      "file:__notebook__.ipynb\n",
      "file_name:/kaggle/working/__notebook__.ipynb\n"
     ]
    }
   ],
   "source": [
    "for path, directories, files in os.walk(os.getcwd()):\n",
    "    for file in files:\n",
    "        print(\"path:\" + path)\n",
    "        print('file:' + file)\n",
    "        for file in files:\n",
    "            file_name = os.path.join(path, file)\n",
    "            print('file_name:' + file_name)"
   ]
  },
  {
   "cell_type": "code",
   "execution_count": 6,
   "id": "c25be5a2",
   "metadata": {
    "execution": {
     "iopub.execute_input": "2023-03-25T00:19:31.376125Z",
     "iopub.status.busy": "2023-03-25T00:19:31.375537Z",
     "iopub.status.idle": "2023-03-25T00:19:31.382905Z",
     "shell.execute_reply": "2023-03-25T00:19:31.381663Z"
    },
    "papermill": {
     "duration": 0.0165,
     "end_time": "2023-03-25T00:19:31.385412",
     "exception": false,
     "start_time": "2023-03-25T00:19:31.368912",
     "status": "completed"
    },
    "tags": []
   },
   "outputs": [],
   "source": [
    "#path_model_dir_dataset = '../input/' + os.listdir('/kaggle/input')[1] #we need the root path /kaggle/input/ of '/kaggle/input/p8-gan-202303-savedmodel'\n",
    "path_model_dir_dataset = '../input/' + 'p8-gan-202303-savedmodel'\n",
    "gen_folder = os.path.join(path_model_dir_dataset,'training_model', \"model_generator\")\n",
    "disc_folder = os.path.join(path_model_dir_dataset,'training_model', \"model_discriminator\")"
   ]
  },
  {
   "cell_type": "code",
   "execution_count": 7,
   "id": "6cc89db5",
   "metadata": {
    "execution": {
     "iopub.execute_input": "2023-03-25T00:19:31.397415Z",
     "iopub.status.busy": "2023-03-25T00:19:31.396962Z",
     "iopub.status.idle": "2023-03-25T00:19:42.808382Z",
     "shell.execute_reply": "2023-03-25T00:19:42.807113Z"
    },
    "papermill": {
     "duration": 11.421143,
     "end_time": "2023-03-25T00:19:42.811564",
     "exception": false,
     "start_time": "2023-03-25T00:19:31.390421",
     "status": "completed"
    },
    "tags": []
   },
   "outputs": [],
   "source": [
    "# Library for Data science\n",
    "\n",
    "import tensorflow as tf #NN processing\n",
    "from tensorflow import keras\n",
    "from tensorflow.keras import layers\n",
    "import tensorflow_addons as tfa\n",
    "\n",
    "from kaggle_datasets import KaggleDatasets\n",
    "import matplotlib.pyplot as plt\n",
    "import numpy as np # linear algebra\n",
    "import pandas as pd # data processing, CSV file I/O (e.g. pd.read_csv)"
   ]
  },
  {
   "cell_type": "code",
   "execution_count": 8,
   "id": "038ad52b",
   "metadata": {
    "execution": {
     "iopub.execute_input": "2023-03-25T00:19:42.824664Z",
     "iopub.status.busy": "2023-03-25T00:19:42.823027Z",
     "iopub.status.idle": "2023-03-25T00:19:52.115639Z",
     "shell.execute_reply": "2023-03-25T00:19:52.114087Z"
    },
    "papermill": {
     "duration": 9.303406,
     "end_time": "2023-03-25T00:19:52.119816",
     "exception": false,
     "start_time": "2023-03-25T00:19:42.816410",
     "status": "completed"
    },
    "tags": []
   },
   "outputs": [
    {
     "name": "stderr",
     "output_type": "stream",
     "text": [
      "/opt/conda/lib/python3.7/site-packages/keras/initializers/initializers_v2.py:121: UserWarning: The initializer RandomNormal is unseeded and being called multiple times, which will return identical values  each time (even if the initializer is unseeded). Please update your code to provide a seed to the initializer, or avoid using the same initalizer instance more than once.\n",
      "  f\"The initializer {self.__class__.__name__} is unseeded \"\n"
     ]
    }
   ],
   "source": [
    "test_generator = tf.keras.models.load_model(gen_folder)\n",
    "test_discriminator = tf.keras.models.load_model(disc_folder)"
   ]
  },
  {
   "cell_type": "code",
   "execution_count": 9,
   "id": "edc5e422",
   "metadata": {
    "execution": {
     "iopub.execute_input": "2023-03-25T00:19:52.135388Z",
     "iopub.status.busy": "2023-03-25T00:19:52.132702Z",
     "iopub.status.idle": "2023-03-25T00:19:52.141140Z",
     "shell.execute_reply": "2023-03-25T00:19:52.139798Z"
    },
    "papermill": {
     "duration": 0.018008,
     "end_time": "2023-03-25T00:19:52.144071",
     "exception": false,
     "start_time": "2023-03-25T00:19:52.126063",
     "status": "completed"
    },
    "tags": []
   },
   "outputs": [],
   "source": [
    "# Create submission files"
   ]
  },
  {
   "cell_type": "code",
   "execution_count": 10,
   "id": "a5e2f190",
   "metadata": {
    "execution": {
     "iopub.execute_input": "2023-03-25T00:19:52.155778Z",
     "iopub.status.busy": "2023-03-25T00:19:52.155307Z",
     "iopub.status.idle": "2023-03-25T00:19:52.165155Z",
     "shell.execute_reply": "2023-03-25T00:19:52.164250Z"
    },
    "papermill": {
     "duration": 0.018756,
     "end_time": "2023-03-25T00:19:52.167660",
     "exception": false,
     "start_time": "2023-03-25T00:19:52.148904",
     "status": "completed"
    },
    "tags": []
   },
   "outputs": [
    {
     "data": {
      "text/plain": [
       "7000"
      ]
     },
     "execution_count": 10,
     "metadata": {},
     "output_type": "execute_result"
    }
   ],
   "source": [
    "len(range(7000))"
   ]
  },
  {
   "cell_type": "code",
   "execution_count": 11,
   "id": "78ad83e1",
   "metadata": {
    "execution": {
     "iopub.execute_input": "2023-03-25T00:19:52.180130Z",
     "iopub.status.busy": "2023-03-25T00:19:52.179316Z",
     "iopub.status.idle": "2023-03-25T00:19:53.294849Z",
     "shell.execute_reply": "2023-03-25T00:19:53.292874Z"
    },
    "papermill": {
     "duration": 1.125544,
     "end_time": "2023-03-25T00:19:53.298233",
     "exception": false,
     "start_time": "2023-03-25T00:19:52.172689",
     "status": "completed"
    },
    "tags": []
   },
   "outputs": [],
   "source": [
    "! mkdir ../images"
   ]
  },
  {
   "cell_type": "code",
   "execution_count": 12,
   "id": "d70271b3",
   "metadata": {
    "execution": {
     "iopub.execute_input": "2023-03-25T00:19:53.311162Z",
     "iopub.status.busy": "2023-03-25T00:19:53.310685Z",
     "iopub.status.idle": "2023-03-25T00:48:03.322093Z",
     "shell.execute_reply": "2023-03-25T00:48:03.320511Z"
    },
    "papermill": {
     "duration": 1690.021465,
     "end_time": "2023-03-25T00:48:03.324788",
     "exception": false,
     "start_time": "2023-03-25T00:19:53.303323",
     "status": "completed"
    },
    "tags": []
   },
   "outputs": [
    {
     "name": "stderr",
     "output_type": "stream",
     "text": [
      "100%|██████████| 7000/7000 [28:09<00:00,  4.14it/s]\n"
     ]
    }
   ],
   "source": [
    "import PIL\n",
    "from tqdm import tqdm\n",
    "\n",
    "nb_images = 7000\n",
    "\n",
    "i = 1\n",
    "for img in tqdm(range(nb_images)):\n",
    "    noise = tf.random.normal([1, 100])\n",
    "    prediction = test_generator(noise, training=False)[0].numpy()\n",
    "    prediction = (prediction * 127.5 + 127.5).astype(np.uint8)\n",
    "    im = PIL.Image.fromarray(prediction)\n",
    "    im.save(\"../images/\" + str(i) + \".jpg\")\n",
    "    i += 1"
   ]
  },
  {
   "cell_type": "code",
   "execution_count": 13,
   "id": "4c52c5eb",
   "metadata": {
    "execution": {
     "iopub.execute_input": "2023-03-25T00:48:04.227414Z",
     "iopub.status.busy": "2023-03-25T00:48:04.225805Z",
     "iopub.status.idle": "2023-03-25T00:48:05.570894Z",
     "shell.execute_reply": "2023-03-25T00:48:05.569396Z"
    },
    "papermill": {
     "duration": 1.801035,
     "end_time": "2023-03-25T00:48:05.574021",
     "exception": false,
     "start_time": "2023-03-25T00:48:03.772986",
     "status": "completed"
    },
    "tags": []
   },
   "outputs": [
    {
     "data": {
      "text/plain": [
       "'/kaggle/working/images.zip'"
      ]
     },
     "execution_count": 13,
     "metadata": {},
     "output_type": "execute_result"
    }
   ],
   "source": [
    "import shutil\n",
    "shutil.make_archive(\"/kaggle/working/images\", 'zip', \"/kaggle/images\")"
   ]
  },
  {
   "cell_type": "code",
   "execution_count": null,
   "id": "8ab6db40",
   "metadata": {
    "papermill": {
     "duration": 0.447731,
     "end_time": "2023-03-25T00:48:06.539542",
     "exception": false,
     "start_time": "2023-03-25T00:48:06.091811",
     "status": "completed"
    },
    "tags": []
   },
   "outputs": [],
   "source": []
  }
 ],
 "metadata": {
  "kernelspec": {
   "display_name": "Python 3",
   "language": "python",
   "name": "python3"
  },
  "language_info": {
   "codemirror_mode": {
    "name": "ipython",
    "version": 3
   },
   "file_extension": ".py",
   "mimetype": "text/x-python",
   "name": "python",
   "nbconvert_exporter": "python",
   "pygments_lexer": "ipython3",
   "version": "3.7.12"
  },
  "papermill": {
   "default_parameters": {},
   "duration": 1731.160295,
   "end_time": "2023-03-25T00:48:10.145261",
   "environment_variables": {},
   "exception": null,
   "input_path": "__notebook__.ipynb",
   "output_path": "__notebook__.ipynb",
   "parameters": {},
   "start_time": "2023-03-25T00:19:18.984966",
   "version": "2.4.0"
  }
 },
 "nbformat": 4,
 "nbformat_minor": 5
}
