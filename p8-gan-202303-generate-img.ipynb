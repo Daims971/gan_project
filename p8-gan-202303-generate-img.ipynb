{
 "cells": [
  {
   "cell_type": "code",
   "execution_count": 1,
   "id": "b95c2195",
   "metadata": {
    "_cell_guid": "b1076dfc-b9ad-4769-8c92-a6c4dae69d19",
    "_uuid": "8f2839f25d086af736a60e9eeb907d3b93b6e0e5",
    "execution": {
     "iopub.execute_input": "2023-03-25T23:06:28.175041Z",
     "iopub.status.busy": "2023-03-25T23:06:28.174478Z",
     "iopub.status.idle": "2023-03-25T23:06:28.198720Z",
     "shell.execute_reply": "2023-03-25T23:06:28.196906Z"
    },
    "papermill": {
     "duration": 0.036098,
     "end_time": "2023-03-25T23:06:28.203034",
     "exception": false,
     "start_time": "2023-03-25T23:06:28.166936",
     "status": "completed"
    },
    "tags": []
   },
   "outputs": [
    {
     "data": {
      "text/plain": [
       "\"\\nimport os\\nfor dirname, _, filenames in os.walk('/kaggle/input'):\\n    for filename in filenames:\\n        print(os.path.join(dirname, filename))\""
      ]
     },
     "execution_count": 1,
     "metadata": {},
     "output_type": "execute_result"
    }
   ],
   "source": [
    "# This Python 3 environment comes with many helpful analytics libraries installed\n",
    "# It is defined by the kaggle/python Docker image: https://github.com/kaggle/docker-python\n",
    "# For example, here's several helpful packages to load\n",
    "\n",
    "import numpy as np # linear algebra\n",
    "import pandas as pd # data processing, CSV file I/O (e.g. pd.read_csv)\n",
    "\n",
    "# Input data files are available in the read-only \"../input/\" directory\n",
    "# For example, running this (by clicking run or pressing Shift+Enter) will list all files under the input directory\n",
    "\n",
    "\"\"\"\n",
    "import os\n",
    "for dirname, _, filenames in os.walk('/kaggle/input'):\n",
    "    for filename in filenames:\n",
    "        print(os.path.join(dirname, filename))\"\"\"\n",
    "\n",
    "# You can write up to 20GB to the current directory (/kaggle/working/) that gets preserved as output when you create a version using \"Save & Run All\" \n",
    "# You can also write temporary files to /kaggle/temp/, but they won't be saved outside of the current session"
   ]
  },
  {
   "cell_type": "code",
   "execution_count": 2,
   "id": "65c1bb96",
   "metadata": {
    "execution": {
     "iopub.execute_input": "2023-03-25T23:06:28.215843Z",
     "iopub.status.busy": "2023-03-25T23:06:28.215317Z",
     "iopub.status.idle": "2023-03-25T23:06:28.225357Z",
     "shell.execute_reply": "2023-03-25T23:06:28.223757Z"
    },
    "papermill": {
     "duration": 0.020163,
     "end_time": "2023-03-25T23:06:28.228603",
     "exception": false,
     "start_time": "2023-03-25T23:06:28.208440",
     "status": "completed"
    },
    "tags": []
   },
   "outputs": [
    {
     "data": {
      "text/plain": [
       "'/kaggle/working'"
      ]
     },
     "execution_count": 2,
     "metadata": {},
     "output_type": "execute_result"
    }
   ],
   "source": [
    "import os\n",
    "os.getcwd()"
   ]
  },
  {
   "cell_type": "code",
   "execution_count": 3,
   "id": "0f0457af",
   "metadata": {
    "execution": {
     "iopub.execute_input": "2023-03-25T23:06:28.241748Z",
     "iopub.status.busy": "2023-03-25T23:06:28.241217Z",
     "iopub.status.idle": "2023-03-25T23:06:28.250620Z",
     "shell.execute_reply": "2023-03-25T23:06:28.248851Z"
    },
    "papermill": {
     "duration": 0.019277,
     "end_time": "2023-03-25T23:06:28.253562",
     "exception": false,
     "start_time": "2023-03-25T23:06:28.234285",
     "status": "completed"
    },
    "tags": []
   },
   "outputs": [
    {
     "data": {
      "text/plain": [
       "['__notebook__.ipynb']"
      ]
     },
     "execution_count": 3,
     "metadata": {},
     "output_type": "execute_result"
    }
   ],
   "source": [
    "os.listdir()"
   ]
  },
  {
   "cell_type": "code",
   "execution_count": 4,
   "id": "4bc5544b",
   "metadata": {
    "execution": {
     "iopub.execute_input": "2023-03-25T23:06:28.266844Z",
     "iopub.status.busy": "2023-03-25T23:06:28.266306Z",
     "iopub.status.idle": "2023-03-25T23:06:28.275943Z",
     "shell.execute_reply": "2023-03-25T23:06:28.273901Z"
    },
    "papermill": {
     "duration": 0.01981,
     "end_time": "2023-03-25T23:06:28.279292",
     "exception": false,
     "start_time": "2023-03-25T23:06:28.259482",
     "status": "completed"
    },
    "tags": []
   },
   "outputs": [
    {
     "data": {
      "text/plain": [
       "['p8-gan-202303-savedmodel', 'gan-getting-started']"
      ]
     },
     "execution_count": 4,
     "metadata": {},
     "output_type": "execute_result"
    }
   ],
   "source": [
    "os.listdir('/kaggle/input')"
   ]
  },
  {
   "cell_type": "code",
   "execution_count": 5,
   "id": "859f9f59",
   "metadata": {
    "execution": {
     "iopub.execute_input": "2023-03-25T23:06:28.292045Z",
     "iopub.status.busy": "2023-03-25T23:06:28.291081Z",
     "iopub.status.idle": "2023-03-25T23:06:28.302769Z",
     "shell.execute_reply": "2023-03-25T23:06:28.300275Z"
    },
    "papermill": {
     "duration": 0.022049,
     "end_time": "2023-03-25T23:06:28.306428",
     "exception": false,
     "start_time": "2023-03-25T23:06:28.284379",
     "status": "completed"
    },
    "tags": []
   },
   "outputs": [
    {
     "name": "stdout",
     "output_type": "stream",
     "text": [
      "path:/kaggle/working\n",
      "file:__notebook__.ipynb\n",
      "file_name:/kaggle/working/__notebook__.ipynb\n"
     ]
    }
   ],
   "source": [
    "for path, directories, files in os.walk(os.getcwd()):\n",
    "    for file in files:\n",
    "        print(\"path:\" + path)\n",
    "        print('file:' + file)\n",
    "        for file in files:\n",
    "            file_name = os.path.join(path, file)\n",
    "            print('file_name:' + file_name)"
   ]
  },
  {
   "cell_type": "code",
   "execution_count": 6,
   "id": "caed5d22",
   "metadata": {
    "execution": {
     "iopub.execute_input": "2023-03-25T23:06:28.318915Z",
     "iopub.status.busy": "2023-03-25T23:06:28.318041Z",
     "iopub.status.idle": "2023-03-25T23:06:28.324286Z",
     "shell.execute_reply": "2023-03-25T23:06:28.322954Z"
    },
    "papermill": {
     "duration": 0.015836,
     "end_time": "2023-03-25T23:06:28.327102",
     "exception": false,
     "start_time": "2023-03-25T23:06:28.311266",
     "status": "completed"
    },
    "tags": []
   },
   "outputs": [],
   "source": [
    "#path_model_dir_dataset = '../input/' + os.listdir('/kaggle/input')[1] #we need the root path /kaggle/input/ of '/kaggle/input/p8-gan-202303-savedmodel'\n",
    "path_model_dir_dataset = '../input/' + 'p8-gan-202303-savedmodel'\n",
    "gen_folder = os.path.join(path_model_dir_dataset,'training_model', \"model_generator\")\n",
    "disc_folder = os.path.join(path_model_dir_dataset,'training_model', \"model_discriminator\")"
   ]
  },
  {
   "cell_type": "code",
   "execution_count": 7,
   "id": "b13c979c",
   "metadata": {
    "execution": {
     "iopub.execute_input": "2023-03-25T23:06:28.340097Z",
     "iopub.status.busy": "2023-03-25T23:06:28.339129Z",
     "iopub.status.idle": "2023-03-25T23:06:39.015045Z",
     "shell.execute_reply": "2023-03-25T23:06:39.012947Z"
    },
    "papermill": {
     "duration": 10.68675,
     "end_time": "2023-03-25T23:06:39.018725",
     "exception": false,
     "start_time": "2023-03-25T23:06:28.331975",
     "status": "completed"
    },
    "tags": []
   },
   "outputs": [],
   "source": [
    "# Library for Data science\n",
    "\n",
    "import tensorflow as tf #NN processing\n",
    "from tensorflow import keras\n",
    "from tensorflow.keras import layers\n",
    "import tensorflow_addons as tfa\n",
    "\n",
    "from kaggle_datasets import KaggleDatasets\n",
    "import matplotlib.pyplot as plt\n",
    "import numpy as np # linear algebra\n",
    "import pandas as pd # data processing, CSV file I/O (e.g. pd.read_csv)"
   ]
  },
  {
   "cell_type": "code",
   "execution_count": 8,
   "id": "0adbe9e8",
   "metadata": {
    "execution": {
     "iopub.execute_input": "2023-03-25T23:06:39.033245Z",
     "iopub.status.busy": "2023-03-25T23:06:39.032380Z",
     "iopub.status.idle": "2023-03-25T23:06:47.968927Z",
     "shell.execute_reply": "2023-03-25T23:06:47.967114Z"
    },
    "papermill": {
     "duration": 8.947868,
     "end_time": "2023-03-25T23:06:47.972033",
     "exception": false,
     "start_time": "2023-03-25T23:06:39.024165",
     "status": "completed"
    },
    "tags": []
   },
   "outputs": [
    {
     "name": "stderr",
     "output_type": "stream",
     "text": [
      "/opt/conda/lib/python3.7/site-packages/keras/initializers/initializers_v2.py:121: UserWarning: The initializer RandomNormal is unseeded and being called multiple times, which will return identical values  each time (even if the initializer is unseeded). Please update your code to provide a seed to the initializer, or avoid using the same initalizer instance more than once.\n",
      "  f\"The initializer {self.__class__.__name__} is unseeded \"\n"
     ]
    }
   ],
   "source": [
    "test_generator = tf.keras.models.load_model(gen_folder)\n",
    "test_discriminator = tf.keras.models.load_model(disc_folder)"
   ]
  },
  {
   "cell_type": "code",
   "execution_count": 9,
   "id": "956d90e5",
   "metadata": {
    "execution": {
     "iopub.execute_input": "2023-03-25T23:06:47.986673Z",
     "iopub.status.busy": "2023-03-25T23:06:47.985348Z",
     "iopub.status.idle": "2023-03-25T23:06:47.991868Z",
     "shell.execute_reply": "2023-03-25T23:06:47.990256Z"
    },
    "papermill": {
     "duration": 0.016277,
     "end_time": "2023-03-25T23:06:47.995206",
     "exception": false,
     "start_time": "2023-03-25T23:06:47.978929",
     "status": "completed"
    },
    "tags": []
   },
   "outputs": [],
   "source": [
    "# Create submission files"
   ]
  },
  {
   "cell_type": "code",
   "execution_count": 10,
   "id": "15c4bb8e",
   "metadata": {
    "execution": {
     "iopub.execute_input": "2023-03-25T23:06:48.011059Z",
     "iopub.status.busy": "2023-03-25T23:06:48.009330Z",
     "iopub.status.idle": "2023-03-25T23:06:48.019763Z",
     "shell.execute_reply": "2023-03-25T23:06:48.018140Z"
    },
    "papermill": {
     "duration": 0.022365,
     "end_time": "2023-03-25T23:06:48.022807",
     "exception": false,
     "start_time": "2023-03-25T23:06:48.000442",
     "status": "completed"
    },
    "tags": []
   },
   "outputs": [
    {
     "data": {
      "text/plain": [
       "7000"
      ]
     },
     "execution_count": 10,
     "metadata": {},
     "output_type": "execute_result"
    }
   ],
   "source": [
    "len(range(7000))"
   ]
  },
  {
   "cell_type": "code",
   "execution_count": 11,
   "id": "9a35253e",
   "metadata": {
    "execution": {
     "iopub.execute_input": "2023-03-25T23:06:48.037072Z",
     "iopub.status.busy": "2023-03-25T23:06:48.035999Z",
     "iopub.status.idle": "2023-03-25T23:06:49.148260Z",
     "shell.execute_reply": "2023-03-25T23:06:49.146332Z"
    },
    "papermill": {
     "duration": 1.122889,
     "end_time": "2023-03-25T23:06:49.151836",
     "exception": false,
     "start_time": "2023-03-25T23:06:48.028947",
     "status": "completed"
    },
    "tags": []
   },
   "outputs": [],
   "source": [
    "! mkdir ../images"
   ]
  },
  {
   "cell_type": "code",
   "execution_count": 12,
   "id": "e3bfbc97",
   "metadata": {
    "execution": {
     "iopub.execute_input": "2023-03-25T23:06:49.164921Z",
     "iopub.status.busy": "2023-03-25T23:06:49.164431Z",
     "iopub.status.idle": "2023-03-25T23:35:29.354770Z",
     "shell.execute_reply": "2023-03-25T23:35:29.351817Z"
    },
    "papermill": {
     "duration": 1720.201562,
     "end_time": "2023-03-25T23:35:29.358815",
     "exception": false,
     "start_time": "2023-03-25T23:06:49.157253",
     "status": "completed"
    },
    "tags": []
   },
   "outputs": [
    {
     "name": "stderr",
     "output_type": "stream",
     "text": [
      "100%|██████████| 7000/7000 [28:40<00:00,  4.07it/s]\n"
     ]
    }
   ],
   "source": [
    "import PIL\n",
    "from tqdm import tqdm\n",
    "\n",
    "nb_images = 7000\n",
    "\n",
    "i = 1\n",
    "for img in tqdm(range(nb_images)):\n",
    "    noise = tf.random.normal([1, 100])\n",
    "    prediction = test_generator(noise, training=False)[0].numpy()\n",
    "    prediction = (prediction * 127.5 + 127.5).astype(np.uint8)\n",
    "    im = PIL.Image.fromarray(prediction)\n",
    "    im.save(\"../images/\" + str(i) + \".jpg\")\n",
    "    i += 1"
   ]
  },
  {
   "cell_type": "code",
   "execution_count": 13,
   "id": "959896c0",
   "metadata": {
    "execution": {
     "iopub.execute_input": "2023-03-25T23:35:30.375714Z",
     "iopub.status.busy": "2023-03-25T23:35:30.374604Z",
     "iopub.status.idle": "2023-03-25T23:35:37.771797Z",
     "shell.execute_reply": "2023-03-25T23:35:37.770417Z"
    },
    "papermill": {
     "duration": 7.958889,
     "end_time": "2023-03-25T23:35:37.774843",
     "exception": false,
     "start_time": "2023-03-25T23:35:29.815954",
     "status": "completed"
    },
    "tags": []
   },
   "outputs": [
    {
     "data": {
      "text/plain": [
       "'/kaggle/working/images.zip'"
      ]
     },
     "execution_count": 13,
     "metadata": {},
     "output_type": "execute_result"
    }
   ],
   "source": [
    "import shutil\n",
    "shutil.make_archive(\"/kaggle/working/images\", 'zip', \"/kaggle/images\")"
   ]
  },
  {
   "cell_type": "code",
   "execution_count": null,
   "id": "a6bc045c",
   "metadata": {
    "papermill": {
     "duration": 0.435865,
     "end_time": "2023-03-25T23:35:38.644598",
     "exception": false,
     "start_time": "2023-03-25T23:35:38.208733",
     "status": "completed"
    },
    "tags": []
   },
   "outputs": [],
   "source": []
  }
 ],
 "metadata": {
  "kernelspec": {
   "display_name": "Python 3",
   "language": "python",
   "name": "python3"
  },
  "language_info": {
   "codemirror_mode": {
    "name": "ipython",
    "version": 3
   },
   "file_extension": ".py",
   "mimetype": "text/x-python",
   "name": "python",
   "nbconvert_exporter": "python",
   "pygments_lexer": "ipython3",
   "version": "3.7.12"
  },
  "papermill": {
   "default_parameters": {},
   "duration": 1766.296794,
   "end_time": "2023-03-25T23:35:42.384391",
   "environment_variables": {},
   "exception": null,
   "input_path": "__notebook__.ipynb",
   "output_path": "__notebook__.ipynb",
   "parameters": {},
   "start_time": "2023-03-25T23:06:16.087597",
   "version": "2.4.0"
  }
 },
 "nbformat": 4,
 "nbformat_minor": 5
}
