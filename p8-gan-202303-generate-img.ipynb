{
 "cells": [
  {
   "cell_type": "code",
   "execution_count": 1,
   "id": "57b74b27",
   "metadata": {
    "_cell_guid": "b1076dfc-b9ad-4769-8c92-a6c4dae69d19",
    "_uuid": "8f2839f25d086af736a60e9eeb907d3b93b6e0e5",
    "execution": {
     "iopub.execute_input": "2023-03-21T15:23:21.947084Z",
     "iopub.status.busy": "2023-03-21T15:23:21.946612Z",
     "iopub.status.idle": "2023-03-21T15:23:21.961344Z",
     "shell.execute_reply": "2023-03-21T15:23:21.959975Z"
    },
    "papermill": {
     "duration": 0.025613,
     "end_time": "2023-03-21T15:23:21.964030",
     "exception": false,
     "start_time": "2023-03-21T15:23:21.938417",
     "status": "completed"
    },
    "tags": []
   },
   "outputs": [
    {
     "data": {
      "text/plain": [
       "\"\\nimport os\\nfor dirname, _, filenames in os.walk('/kaggle/input'):\\n    for filename in filenames:\\n        print(os.path.join(dirname, filename))\""
      ]
     },
     "execution_count": 1,
     "metadata": {},
     "output_type": "execute_result"
    }
   ],
   "source": [
    "# This Python 3 environment comes with many helpful analytics libraries installed\n",
    "# It is defined by the kaggle/python Docker image: https://github.com/kaggle/docker-python\n",
    "# For example, here's several helpful packages to load\n",
    "\n",
    "import numpy as np # linear algebra\n",
    "import pandas as pd # data processing, CSV file I/O (e.g. pd.read_csv)\n",
    "\n",
    "# Input data files are available in the read-only \"../input/\" directory\n",
    "# For example, running this (by clicking run or pressing Shift+Enter) will list all files under the input directory\n",
    "\n",
    "\"\"\"\n",
    "import os\n",
    "for dirname, _, filenames in os.walk('/kaggle/input'):\n",
    "    for filename in filenames:\n",
    "        print(os.path.join(dirname, filename))\"\"\"\n",
    "\n",
    "# You can write up to 20GB to the current directory (/kaggle/working/) that gets preserved as output when you create a version using \"Save & Run All\" \n",
    "# You can also write temporary files to /kaggle/temp/, but they won't be saved outside of the current session"
   ]
  },
  {
   "cell_type": "code",
   "execution_count": 2,
   "id": "b2cd99c4",
   "metadata": {
    "execution": {
     "iopub.execute_input": "2023-03-21T15:23:21.975007Z",
     "iopub.status.busy": "2023-03-21T15:23:21.974290Z",
     "iopub.status.idle": "2023-03-21T15:23:21.981296Z",
     "shell.execute_reply": "2023-03-21T15:23:21.980167Z"
    },
    "papermill": {
     "duration": 0.015145,
     "end_time": "2023-03-21T15:23:21.983588",
     "exception": false,
     "start_time": "2023-03-21T15:23:21.968443",
     "status": "completed"
    },
    "tags": []
   },
   "outputs": [
    {
     "data": {
      "text/plain": [
       "'/kaggle/working'"
      ]
     },
     "execution_count": 2,
     "metadata": {},
     "output_type": "execute_result"
    }
   ],
   "source": [
    "import os\n",
    "os.getcwd()"
   ]
  },
  {
   "cell_type": "code",
   "execution_count": 3,
   "id": "33508bed",
   "metadata": {
    "execution": {
     "iopub.execute_input": "2023-03-21T15:23:21.994648Z",
     "iopub.status.busy": "2023-03-21T15:23:21.993960Z",
     "iopub.status.idle": "2023-03-21T15:23:22.000998Z",
     "shell.execute_reply": "2023-03-21T15:23:21.999992Z"
    },
    "papermill": {
     "duration": 0.015268,
     "end_time": "2023-03-21T15:23:22.003314",
     "exception": false,
     "start_time": "2023-03-21T15:23:21.988046",
     "status": "completed"
    },
    "tags": []
   },
   "outputs": [
    {
     "data": {
      "text/plain": [
       "['__notebook__.ipynb']"
      ]
     },
     "execution_count": 3,
     "metadata": {},
     "output_type": "execute_result"
    }
   ],
   "source": [
    "os.listdir()"
   ]
  },
  {
   "cell_type": "code",
   "execution_count": 4,
   "id": "3c81510c",
   "metadata": {
    "execution": {
     "iopub.execute_input": "2023-03-21T15:23:22.015780Z",
     "iopub.status.busy": "2023-03-21T15:23:22.015107Z",
     "iopub.status.idle": "2023-03-21T15:23:22.022568Z",
     "shell.execute_reply": "2023-03-21T15:23:22.021355Z"
    },
    "papermill": {
     "duration": 0.016544,
     "end_time": "2023-03-21T15:23:22.024873",
     "exception": false,
     "start_time": "2023-03-21T15:23:22.008329",
     "status": "completed"
    },
    "tags": []
   },
   "outputs": [
    {
     "data": {
      "text/plain": [
       "['gan-getting-started', 'p8-gan-202303-savedmodel']"
      ]
     },
     "execution_count": 4,
     "metadata": {},
     "output_type": "execute_result"
    }
   ],
   "source": [
    "os.listdir('/kaggle/input')"
   ]
  },
  {
   "cell_type": "code",
   "execution_count": 5,
   "id": "512396b0",
   "metadata": {
    "execution": {
     "iopub.execute_input": "2023-03-21T15:23:22.036790Z",
     "iopub.status.busy": "2023-03-21T15:23:22.036113Z",
     "iopub.status.idle": "2023-03-21T15:23:22.044184Z",
     "shell.execute_reply": "2023-03-21T15:23:22.042685Z"
    },
    "papermill": {
     "duration": 0.017611,
     "end_time": "2023-03-21T15:23:22.047564",
     "exception": false,
     "start_time": "2023-03-21T15:23:22.029953",
     "status": "completed"
    },
    "tags": []
   },
   "outputs": [
    {
     "name": "stdout",
     "output_type": "stream",
     "text": [
      "path:/kaggle/working\n",
      "file:__notebook__.ipynb\n",
      "file_name:/kaggle/working/__notebook__.ipynb\n"
     ]
    }
   ],
   "source": [
    "for path, directories, files in os.walk(os.getcwd()):\n",
    "    for file in files:\n",
    "        print(\"path:\" + path)\n",
    "        print('file:' + file)\n",
    "        for file in files:\n",
    "            file_name = os.path.join(path, file)\n",
    "            print('file_name:' + file_name)"
   ]
  },
  {
   "cell_type": "code",
   "execution_count": 6,
   "id": "38b80a6f",
   "metadata": {
    "execution": {
     "iopub.execute_input": "2023-03-21T15:23:22.060169Z",
     "iopub.status.busy": "2023-03-21T15:23:22.058957Z",
     "iopub.status.idle": "2023-03-21T15:23:22.065244Z",
     "shell.execute_reply": "2023-03-21T15:23:22.064036Z"
    },
    "papermill": {
     "duration": 0.015254,
     "end_time": "2023-03-21T15:23:22.068046",
     "exception": false,
     "start_time": "2023-03-21T15:23:22.052792",
     "status": "completed"
    },
    "tags": []
   },
   "outputs": [],
   "source": [
    "path_model_dir_dataset = '../input/' + os.listdir('/kaggle/input')[1] #we need the root path /kaggle/input/ of '/kaggle/input/p8-gan-202303-savedmodel'\n",
    "gen_folder = os.path.join(path_model_dir_dataset,'training_model', \"model_generator\")\n",
    "disc_folder = os.path.join(path_model_dir_dataset,'training_model', \"model_discriminator\")"
   ]
  },
  {
   "cell_type": "code",
   "execution_count": 7,
   "id": "d6bf7e3e",
   "metadata": {
    "execution": {
     "iopub.execute_input": "2023-03-21T15:23:22.079416Z",
     "iopub.status.busy": "2023-03-21T15:23:22.078993Z",
     "iopub.status.idle": "2023-03-21T15:23:31.188117Z",
     "shell.execute_reply": "2023-03-21T15:23:31.186752Z"
    },
    "papermill": {
     "duration": 9.118083,
     "end_time": "2023-03-21T15:23:31.190997",
     "exception": false,
     "start_time": "2023-03-21T15:23:22.072914",
     "status": "completed"
    },
    "tags": []
   },
   "outputs": [],
   "source": [
    "# Library for Data science\n",
    "\n",
    "import tensorflow as tf #NN processing\n",
    "from tensorflow import keras\n",
    "from tensorflow.keras import layers\n",
    "import tensorflow_addons as tfa\n",
    "\n",
    "from kaggle_datasets import KaggleDatasets\n",
    "import matplotlib.pyplot as plt\n",
    "import numpy as np # linear algebra\n",
    "import pandas as pd # data processing, CSV file I/O (e.g. pd.read_csv)"
   ]
  },
  {
   "cell_type": "code",
   "execution_count": 8,
   "id": "d4396cae",
   "metadata": {
    "execution": {
     "iopub.execute_input": "2023-03-21T15:23:31.202990Z",
     "iopub.status.busy": "2023-03-21T15:23:31.202229Z",
     "iopub.status.idle": "2023-03-21T15:23:40.348592Z",
     "shell.execute_reply": "2023-03-21T15:23:40.347447Z"
    },
    "papermill": {
     "duration": 9.157639,
     "end_time": "2023-03-21T15:23:40.353592",
     "exception": false,
     "start_time": "2023-03-21T15:23:31.195953",
     "status": "completed"
    },
    "tags": []
   },
   "outputs": [
    {
     "name": "stderr",
     "output_type": "stream",
     "text": [
      "/opt/conda/lib/python3.7/site-packages/keras/initializers/initializers_v2.py:121: UserWarning: The initializer RandomNormal is unseeded and being called multiple times, which will return identical values  each time (even if the initializer is unseeded). Please update your code to provide a seed to the initializer, or avoid using the same initalizer instance more than once.\n",
      "  f\"The initializer {self.__class__.__name__} is unseeded \"\n"
     ]
    }
   ],
   "source": [
    "test_generator = tf.keras.models.load_model(gen_folder)\n",
    "test_discriminator = tf.keras.models.load_model(disc_folder)"
   ]
  },
  {
   "cell_type": "code",
   "execution_count": 9,
   "id": "4ed7c198",
   "metadata": {
    "execution": {
     "iopub.execute_input": "2023-03-21T15:23:40.365117Z",
     "iopub.status.busy": "2023-03-21T15:23:40.364702Z",
     "iopub.status.idle": "2023-03-21T15:23:40.369933Z",
     "shell.execute_reply": "2023-03-21T15:23:40.368717Z"
    },
    "papermill": {
     "duration": 0.013961,
     "end_time": "2023-03-21T15:23:40.372474",
     "exception": false,
     "start_time": "2023-03-21T15:23:40.358513",
     "status": "completed"
    },
    "tags": []
   },
   "outputs": [],
   "source": [
    "# Create submission files"
   ]
  },
  {
   "cell_type": "code",
   "execution_count": 10,
   "id": "9d1b68f8",
   "metadata": {
    "execution": {
     "iopub.execute_input": "2023-03-21T15:23:40.384218Z",
     "iopub.status.busy": "2023-03-21T15:23:40.383436Z",
     "iopub.status.idle": "2023-03-21T15:23:40.391052Z",
     "shell.execute_reply": "2023-03-21T15:23:40.389854Z"
    },
    "papermill": {
     "duration": 0.016508,
     "end_time": "2023-03-21T15:23:40.393801",
     "exception": false,
     "start_time": "2023-03-21T15:23:40.377293",
     "status": "completed"
    },
    "tags": []
   },
   "outputs": [
    {
     "data": {
      "text/plain": [
       "7000"
      ]
     },
     "execution_count": 10,
     "metadata": {},
     "output_type": "execute_result"
    }
   ],
   "source": [
    "len(range(7000))"
   ]
  },
  {
   "cell_type": "code",
   "execution_count": 11,
   "id": "5177c94e",
   "metadata": {
    "execution": {
     "iopub.execute_input": "2023-03-21T15:23:40.405969Z",
     "iopub.status.busy": "2023-03-21T15:23:40.405205Z",
     "iopub.status.idle": "2023-03-21T15:23:41.519149Z",
     "shell.execute_reply": "2023-03-21T15:23:41.517587Z"
    },
    "papermill": {
     "duration": 1.123527,
     "end_time": "2023-03-21T15:23:41.522318",
     "exception": false,
     "start_time": "2023-03-21T15:23:40.398791",
     "status": "completed"
    },
    "tags": []
   },
   "outputs": [],
   "source": [
    "! mkdir ../images"
   ]
  },
  {
   "cell_type": "code",
   "execution_count": 12,
   "id": "ce031912",
   "metadata": {
    "execution": {
     "iopub.execute_input": "2023-03-21T15:23:41.534833Z",
     "iopub.status.busy": "2023-03-21T15:23:41.534045Z",
     "iopub.status.idle": "2023-03-21T15:48:13.651527Z",
     "shell.execute_reply": "2023-03-21T15:48:13.648215Z"
    },
    "papermill": {
     "duration": 1472.127904,
     "end_time": "2023-03-21T15:48:13.655206",
     "exception": false,
     "start_time": "2023-03-21T15:23:41.527302",
     "status": "completed"
    },
    "tags": []
   },
   "outputs": [
    {
     "name": "stderr",
     "output_type": "stream",
     "text": [
      "100%|██████████| 7000/7000 [24:32<00:00,  4.76it/s]\n"
     ]
    }
   ],
   "source": [
    "import PIL\n",
    "from tqdm import tqdm\n",
    "\n",
    "nb_images = 7000\n",
    "\n",
    "i = 1\n",
    "for img in tqdm(range(nb_images)):\n",
    "    noise = tf.random.normal([1, 100])\n",
    "    prediction = test_generator(noise, training=False)[0].numpy()\n",
    "    prediction = (prediction * 127.5 + 127.5).astype(np.uint8)\n",
    "    im = PIL.Image.fromarray(prediction)\n",
    "    im.save(\"../images/\" + str(i) + \".jpg\")\n",
    "    i += 1"
   ]
  },
  {
   "cell_type": "code",
   "execution_count": 13,
   "id": "9652645c",
   "metadata": {
    "execution": {
     "iopub.execute_input": "2023-03-21T15:48:14.599272Z",
     "iopub.status.busy": "2023-03-21T15:48:14.598877Z",
     "iopub.status.idle": "2023-03-21T15:48:21.564211Z",
     "shell.execute_reply": "2023-03-21T15:48:21.563183Z"
    },
    "papermill": {
     "duration": 7.410542,
     "end_time": "2023-03-21T15:48:21.566878",
     "exception": false,
     "start_time": "2023-03-21T15:48:14.156336",
     "status": "completed"
    },
    "tags": []
   },
   "outputs": [
    {
     "data": {
      "text/plain": [
       "'/kaggle/working/images.zip'"
      ]
     },
     "execution_count": 13,
     "metadata": {},
     "output_type": "execute_result"
    }
   ],
   "source": [
    "import shutil\n",
    "shutil.make_archive(\"/kaggle/working/images\", 'zip', \"/kaggle/images\")"
   ]
  },
  {
   "cell_type": "code",
   "execution_count": null,
   "id": "1c7e6898",
   "metadata": {
    "papermill": {
     "duration": 0.502156,
     "end_time": "2023-03-21T15:48:22.502268",
     "exception": false,
     "start_time": "2023-03-21T15:48:22.000112",
     "status": "completed"
    },
    "tags": []
   },
   "outputs": [],
   "source": []
  }
 ],
 "metadata": {
  "kernelspec": {
   "display_name": "Python 3",
   "language": "python",
   "name": "python3"
  },
  "language_info": {
   "codemirror_mode": {
    "name": "ipython",
    "version": 3
   },
   "file_extension": ".py",
   "mimetype": "text/x-python",
   "name": "python",
   "nbconvert_exporter": "python",
   "pygments_lexer": "ipython3",
   "version": "3.7.12"
  },
  "papermill": {
   "default_parameters": {},
   "duration": 1514.811079,
   "end_time": "2023-03-21T15:48:26.621629",
   "environment_variables": {},
   "exception": null,
   "input_path": "__notebook__.ipynb",
   "output_path": "__notebook__.ipynb",
   "parameters": {},
   "start_time": "2023-03-21T15:23:11.810550",
   "version": "2.4.0"
  }
 },
 "nbformat": 4,
 "nbformat_minor": 5
}
