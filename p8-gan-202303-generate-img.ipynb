{
 "cells": [
  {
   "cell_type": "code",
   "execution_count": 1,
   "id": "7d0935fb",
   "metadata": {
    "_cell_guid": "b1076dfc-b9ad-4769-8c92-a6c4dae69d19",
    "_uuid": "8f2839f25d086af736a60e9eeb907d3b93b6e0e5",
    "execution": {
     "iopub.execute_input": "2023-03-26T22:21:17.127101Z",
     "iopub.status.busy": "2023-03-26T22:21:17.126647Z",
     "iopub.status.idle": "2023-03-26T22:21:17.141357Z",
     "shell.execute_reply": "2023-03-26T22:21:17.139738Z"
    },
    "papermill": {
     "duration": 0.024062,
     "end_time": "2023-03-26T22:21:17.144314",
     "exception": false,
     "start_time": "2023-03-26T22:21:17.120252",
     "status": "completed"
    },
    "tags": []
   },
   "outputs": [
    {
     "data": {
      "text/plain": [
       "\"\\nimport os\\nfor dirname, _, filenames in os.walk('/kaggle/input'):\\n    for filename in filenames:\\n        print(os.path.join(dirname, filename))\""
      ]
     },
     "execution_count": 1,
     "metadata": {},
     "output_type": "execute_result"
    }
   ],
   "source": [
    "# This Python 3 environment comes with many helpful analytics libraries installed\n",
    "# It is defined by the kaggle/python Docker image: https://github.com/kaggle/docker-python\n",
    "# For example, here's several helpful packages to load\n",
    "\n",
    "import numpy as np # linear algebra\n",
    "import pandas as pd # data processing, CSV file I/O (e.g. pd.read_csv)\n",
    "\n",
    "# Input data files are available in the read-only \"../input/\" directory\n",
    "# For example, running this (by clicking run or pressing Shift+Enter) will list all files under the input directory\n",
    "\n",
    "\"\"\"\n",
    "import os\n",
    "for dirname, _, filenames in os.walk('/kaggle/input'):\n",
    "    for filename in filenames:\n",
    "        print(os.path.join(dirname, filename))\"\"\"\n",
    "\n",
    "# You can write up to 20GB to the current directory (/kaggle/working/) that gets preserved as output when you create a version using \"Save & Run All\" \n",
    "# You can also write temporary files to /kaggle/temp/, but they won't be saved outside of the current session"
   ]
  },
  {
   "cell_type": "code",
   "execution_count": 2,
   "id": "09662b19",
   "metadata": {
    "execution": {
     "iopub.execute_input": "2023-03-26T22:21:17.154196Z",
     "iopub.status.busy": "2023-03-26T22:21:17.153822Z",
     "iopub.status.idle": "2023-03-26T22:21:17.161795Z",
     "shell.execute_reply": "2023-03-26T22:21:17.160450Z"
    },
    "papermill": {
     "duration": 0.016234,
     "end_time": "2023-03-26T22:21:17.164663",
     "exception": false,
     "start_time": "2023-03-26T22:21:17.148429",
     "status": "completed"
    },
    "tags": []
   },
   "outputs": [
    {
     "data": {
      "text/plain": [
       "'/kaggle/working'"
      ]
     },
     "execution_count": 2,
     "metadata": {},
     "output_type": "execute_result"
    }
   ],
   "source": [
    "import os\n",
    "os.getcwd()"
   ]
  },
  {
   "cell_type": "code",
   "execution_count": 3,
   "id": "573dd13a",
   "metadata": {
    "execution": {
     "iopub.execute_input": "2023-03-26T22:21:17.174478Z",
     "iopub.status.busy": "2023-03-26T22:21:17.174085Z",
     "iopub.status.idle": "2023-03-26T22:21:17.181493Z",
     "shell.execute_reply": "2023-03-26T22:21:17.180316Z"
    },
    "papermill": {
     "duration": 0.015393,
     "end_time": "2023-03-26T22:21:17.184263",
     "exception": false,
     "start_time": "2023-03-26T22:21:17.168870",
     "status": "completed"
    },
    "tags": []
   },
   "outputs": [
    {
     "data": {
      "text/plain": [
       "['__notebook__.ipynb']"
      ]
     },
     "execution_count": 3,
     "metadata": {},
     "output_type": "execute_result"
    }
   ],
   "source": [
    "os.listdir()"
   ]
  },
  {
   "cell_type": "code",
   "execution_count": 4,
   "id": "9715d8c4",
   "metadata": {
    "execution": {
     "iopub.execute_input": "2023-03-26T22:21:17.194451Z",
     "iopub.status.busy": "2023-03-26T22:21:17.194043Z",
     "iopub.status.idle": "2023-03-26T22:21:17.201095Z",
     "shell.execute_reply": "2023-03-26T22:21:17.199900Z"
    },
    "papermill": {
     "duration": 0.014629,
     "end_time": "2023-03-26T22:21:17.203066",
     "exception": false,
     "start_time": "2023-03-26T22:21:17.188437",
     "status": "completed"
    },
    "tags": []
   },
   "outputs": [
    {
     "data": {
      "text/plain": [
       "['gan-getting-started', 'p8-gan-202303-savedmodel']"
      ]
     },
     "execution_count": 4,
     "metadata": {},
     "output_type": "execute_result"
    }
   ],
   "source": [
    "os.listdir('/kaggle/input')"
   ]
  },
  {
   "cell_type": "code",
   "execution_count": 5,
   "id": "c83e41ec",
   "metadata": {
    "execution": {
     "iopub.execute_input": "2023-03-26T22:21:17.213097Z",
     "iopub.status.busy": "2023-03-26T22:21:17.212694Z",
     "iopub.status.idle": "2023-03-26T22:21:17.220781Z",
     "shell.execute_reply": "2023-03-26T22:21:17.218877Z"
    },
    "papermill": {
     "duration": 0.016234,
     "end_time": "2023-03-26T22:21:17.223604",
     "exception": false,
     "start_time": "2023-03-26T22:21:17.207370",
     "status": "completed"
    },
    "tags": []
   },
   "outputs": [
    {
     "name": "stdout",
     "output_type": "stream",
     "text": [
      "path:/kaggle/working\n",
      "file:__notebook__.ipynb\n",
      "file_name:/kaggle/working/__notebook__.ipynb\n"
     ]
    }
   ],
   "source": [
    "for path, directories, files in os.walk(os.getcwd()):\n",
    "    for file in files:\n",
    "        print(\"path:\" + path)\n",
    "        print('file:' + file)\n",
    "        for file in files:\n",
    "            file_name = os.path.join(path, file)\n",
    "            print('file_name:' + file_name)"
   ]
  },
  {
   "cell_type": "code",
   "execution_count": 6,
   "id": "ed6f80ac",
   "metadata": {
    "execution": {
     "iopub.execute_input": "2023-03-26T22:21:17.235352Z",
     "iopub.status.busy": "2023-03-26T22:21:17.234997Z",
     "iopub.status.idle": "2023-03-26T22:21:17.241678Z",
     "shell.execute_reply": "2023-03-26T22:21:17.239582Z"
    },
    "papermill": {
     "duration": 0.014856,
     "end_time": "2023-03-26T22:21:17.243732",
     "exception": false,
     "start_time": "2023-03-26T22:21:17.228876",
     "status": "completed"
    },
    "tags": []
   },
   "outputs": [],
   "source": [
    "#path_model_dir_dataset = '../input/' + os.listdir('/kaggle/input')[1] #we need the root path /kaggle/input/ of '/kaggle/input/p8-gan-202303-savedmodel'\n",
    "path_model_dir_dataset = '../input/' + 'p8-gan-202303-savedmodel'\n",
    "gen_folder = os.path.join(path_model_dir_dataset,'training_model', \"model_generator\")\n",
    "disc_folder = os.path.join(path_model_dir_dataset,'training_model', \"model_discriminator\")"
   ]
  },
  {
   "cell_type": "code",
   "execution_count": 7,
   "id": "aac12d7a",
   "metadata": {
    "execution": {
     "iopub.execute_input": "2023-03-26T22:21:17.256234Z",
     "iopub.status.busy": "2023-03-26T22:21:17.255865Z",
     "iopub.status.idle": "2023-03-26T22:21:26.105952Z",
     "shell.execute_reply": "2023-03-26T22:21:26.104302Z"
    },
    "papermill": {
     "duration": 8.859972,
     "end_time": "2023-03-26T22:21:26.109045",
     "exception": false,
     "start_time": "2023-03-26T22:21:17.249073",
     "status": "completed"
    },
    "tags": []
   },
   "outputs": [],
   "source": [
    "# Library for Data science\n",
    "\n",
    "import tensorflow as tf #NN processing\n",
    "from tensorflow import keras\n",
    "from tensorflow.keras import layers\n",
    "import tensorflow_addons as tfa\n",
    "\n",
    "from kaggle_datasets import KaggleDatasets\n",
    "import matplotlib.pyplot as plt\n",
    "import numpy as np # linear algebra\n",
    "import pandas as pd # data processing, CSV file I/O (e.g. pd.read_csv)"
   ]
  },
  {
   "cell_type": "code",
   "execution_count": 8,
   "id": "3daf4af0",
   "metadata": {
    "execution": {
     "iopub.execute_input": "2023-03-26T22:21:26.119571Z",
     "iopub.status.busy": "2023-03-26T22:21:26.118828Z",
     "iopub.status.idle": "2023-03-26T22:21:32.864994Z",
     "shell.execute_reply": "2023-03-26T22:21:32.863592Z"
    },
    "papermill": {
     "duration": 6.754729,
     "end_time": "2023-03-26T22:21:32.867955",
     "exception": false,
     "start_time": "2023-03-26T22:21:26.113226",
     "status": "completed"
    },
    "tags": []
   },
   "outputs": [
    {
     "name": "stderr",
     "output_type": "stream",
     "text": [
      "/opt/conda/lib/python3.7/site-packages/keras/initializers/initializers_v2.py:121: UserWarning: The initializer RandomNormal is unseeded and being called multiple times, which will return identical values  each time (even if the initializer is unseeded). Please update your code to provide a seed to the initializer, or avoid using the same initalizer instance more than once.\n",
      "  f\"The initializer {self.__class__.__name__} is unseeded \"\n"
     ]
    }
   ],
   "source": [
    "test_generator = tf.keras.models.load_model(gen_folder)\n",
    "test_discriminator = tf.keras.models.load_model(disc_folder)"
   ]
  },
  {
   "cell_type": "code",
   "execution_count": 9,
   "id": "52722858",
   "metadata": {
    "execution": {
     "iopub.execute_input": "2023-03-26T22:21:32.878360Z",
     "iopub.status.busy": "2023-03-26T22:21:32.878012Z",
     "iopub.status.idle": "2023-03-26T22:21:32.882835Z",
     "shell.execute_reply": "2023-03-26T22:21:32.881565Z"
    },
    "papermill": {
     "duration": 0.011916,
     "end_time": "2023-03-26T22:21:32.884778",
     "exception": false,
     "start_time": "2023-03-26T22:21:32.872862",
     "status": "completed"
    },
    "tags": []
   },
   "outputs": [],
   "source": [
    "# Create submission files"
   ]
  },
  {
   "cell_type": "code",
   "execution_count": 10,
   "id": "7c4ba7fe",
   "metadata": {
    "execution": {
     "iopub.execute_input": "2023-03-26T22:21:32.895500Z",
     "iopub.status.busy": "2023-03-26T22:21:32.895139Z",
     "iopub.status.idle": "2023-03-26T22:21:32.903006Z",
     "shell.execute_reply": "2023-03-26T22:21:32.901638Z"
    },
    "papermill": {
     "duration": 0.015723,
     "end_time": "2023-03-26T22:21:32.905185",
     "exception": false,
     "start_time": "2023-03-26T22:21:32.889462",
     "status": "completed"
    },
    "tags": []
   },
   "outputs": [
    {
     "data": {
      "text/plain": [
       "7000"
      ]
     },
     "execution_count": 10,
     "metadata": {},
     "output_type": "execute_result"
    }
   ],
   "source": [
    "len(range(7000))"
   ]
  },
  {
   "cell_type": "code",
   "execution_count": 11,
   "id": "70bdab26",
   "metadata": {
    "execution": {
     "iopub.execute_input": "2023-03-26T22:21:32.915325Z",
     "iopub.status.busy": "2023-03-26T22:21:32.914976Z",
     "iopub.status.idle": "2023-03-26T22:21:33.190460Z",
     "shell.execute_reply": "2023-03-26T22:21:33.188984Z"
    },
    "papermill": {
     "duration": 0.283933,
     "end_time": "2023-03-26T22:21:33.193638",
     "exception": false,
     "start_time": "2023-03-26T22:21:32.909705",
     "status": "completed"
    },
    "tags": []
   },
   "outputs": [],
   "source": [
    "! mkdir ../images"
   ]
  },
  {
   "cell_type": "code",
   "execution_count": 12,
   "id": "85f5adc9",
   "metadata": {
    "execution": {
     "iopub.execute_input": "2023-03-26T22:21:33.204426Z",
     "iopub.status.busy": "2023-03-26T22:21:33.203997Z",
     "iopub.status.idle": "2023-03-26T22:41:00.490804Z",
     "shell.execute_reply": "2023-03-26T22:41:00.489690Z"
    },
    "papermill": {
     "duration": 1167.294944,
     "end_time": "2023-03-26T22:41:00.493040",
     "exception": false,
     "start_time": "2023-03-26T22:21:33.198096",
     "status": "completed"
    },
    "tags": []
   },
   "outputs": [
    {
     "name": "stderr",
     "output_type": "stream",
     "text": [
      "100%|██████████| 7000/7000 [19:27<00:00,  6.00it/s]\n"
     ]
    }
   ],
   "source": [
    "import PIL\n",
    "from tqdm import tqdm\n",
    "\n",
    "nb_images = 7000\n",
    "\n",
    "i = 1\n",
    "for img in tqdm(range(nb_images)):\n",
    "    noise = tf.random.normal([1, 100])\n",
    "    prediction = test_generator(noise, training=False)[0].numpy()\n",
    "    prediction = (prediction * 127.5 + 127.5).astype(np.uint8)\n",
    "    im = PIL.Image.fromarray(prediction)\n",
    "    im.save(\"../images/\" + str(i) + \".jpg\")\n",
    "    i += 1"
   ]
  },
  {
   "cell_type": "code",
   "execution_count": 13,
   "id": "91ca06eb",
   "metadata": {
    "execution": {
     "iopub.execute_input": "2023-03-26T22:41:01.277625Z",
     "iopub.status.busy": "2023-03-26T22:41:01.277267Z",
     "iopub.status.idle": "2023-03-26T22:41:09.709705Z",
     "shell.execute_reply": "2023-03-26T22:41:09.708327Z"
    },
    "papermill": {
     "duration": 8.828503,
     "end_time": "2023-03-26T22:41:09.712207",
     "exception": false,
     "start_time": "2023-03-26T22:41:00.883704",
     "status": "completed"
    },
    "tags": []
   },
   "outputs": [
    {
     "data": {
      "text/plain": [
       "'/kaggle/working/images.zip'"
      ]
     },
     "execution_count": 13,
     "metadata": {},
     "output_type": "execute_result"
    }
   ],
   "source": [
    "import shutil\n",
    "shutil.make_archive(\"/kaggle/working/images\", 'zip', \"/kaggle/images\")"
   ]
  },
  {
   "cell_type": "code",
   "execution_count": null,
   "id": "7044f8c4",
   "metadata": {
    "papermill": {
     "duration": 0.389071,
     "end_time": "2023-03-26T22:41:10.556430",
     "exception": false,
     "start_time": "2023-03-26T22:41:10.167359",
     "status": "completed"
    },
    "tags": []
   },
   "outputs": [],
   "source": []
  }
 ],
 "metadata": {
  "kernelspec": {
   "display_name": "Python 3",
   "language": "python",
   "name": "python3"
  },
  "language_info": {
   "codemirror_mode": {
    "name": "ipython",
    "version": 3
   },
   "file_extension": ".py",
   "mimetype": "text/x-python",
   "name": "python",
   "nbconvert_exporter": "python",
   "pygments_lexer": "ipython3",
   "version": "3.7.12"
  },
  "papermill": {
   "default_parameters": {},
   "duration": 1206.176661,
   "end_time": "2023-03-26T22:41:14.398498",
   "environment_variables": {},
   "exception": null,
   "input_path": "__notebook__.ipynb",
   "output_path": "__notebook__.ipynb",
   "parameters": {},
   "start_time": "2023-03-26T22:21:08.221837",
   "version": "2.4.0"
  }
 },
 "nbformat": 4,
 "nbformat_minor": 5
}
