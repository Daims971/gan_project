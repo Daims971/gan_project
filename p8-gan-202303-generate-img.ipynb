{
 "cells": [
  {
   "cell_type": "code",
   "execution_count": 1,
   "id": "877868da",
   "metadata": {
    "_cell_guid": "b1076dfc-b9ad-4769-8c92-a6c4dae69d19",
    "_uuid": "8f2839f25d086af736a60e9eeb907d3b93b6e0e5",
    "execution": {
     "iopub.execute_input": "2023-04-01T07:44:26.233875Z",
     "iopub.status.busy": "2023-04-01T07:44:26.233013Z",
     "iopub.status.idle": "2023-04-01T07:44:26.248878Z",
     "shell.execute_reply": "2023-04-01T07:44:26.247381Z"
    },
    "papermill": {
     "duration": 0.026201,
     "end_time": "2023-04-01T07:44:26.252117",
     "exception": false,
     "start_time": "2023-04-01T07:44:26.225916",
     "status": "completed"
    },
    "tags": []
   },
   "outputs": [
    {
     "data": {
      "text/plain": [
       "\"\\nimport os\\nfor dirname, _, filenames in os.walk('/kaggle/input'):\\n    for filename in filenames:\\n        print(os.path.join(dirname, filename))\""
      ]
     },
     "execution_count": 1,
     "metadata": {},
     "output_type": "execute_result"
    }
   ],
   "source": [
    "# This Python 3 environment comes with many helpful analytics libraries installed\n",
    "# It is defined by the kaggle/python Docker image: https://github.com/kaggle/docker-python\n",
    "# For example, here's several helpful packages to load\n",
    "\n",
    "import numpy as np # linear algebra\n",
    "import pandas as pd # data processing, CSV file I/O (e.g. pd.read_csv)\n",
    "\n",
    "# Input data files are available in the read-only \"../input/\" directory\n",
    "# For example, running this (by clicking run or pressing Shift+Enter) will list all files under the input directory\n",
    "\n",
    "\"\"\"\n",
    "import os\n",
    "for dirname, _, filenames in os.walk('/kaggle/input'):\n",
    "    for filename in filenames:\n",
    "        print(os.path.join(dirname, filename))\"\"\"\n",
    "\n",
    "# You can write up to 20GB to the current directory (/kaggle/working/) that gets preserved as output when you create a version using \"Save & Run All\" \n",
    "# You can also write temporary files to /kaggle/temp/, but they won't be saved outside of the current session"
   ]
  },
  {
   "cell_type": "code",
   "execution_count": 2,
   "id": "2b92cc0e",
   "metadata": {
    "execution": {
     "iopub.execute_input": "2023-04-01T07:44:26.263650Z",
     "iopub.status.busy": "2023-04-01T07:44:26.263229Z",
     "iopub.status.idle": "2023-04-01T07:44:26.270875Z",
     "shell.execute_reply": "2023-04-01T07:44:26.269424Z"
    },
    "papermill": {
     "duration": 0.016552,
     "end_time": "2023-04-01T07:44:26.273366",
     "exception": false,
     "start_time": "2023-04-01T07:44:26.256814",
     "status": "completed"
    },
    "tags": []
   },
   "outputs": [
    {
     "data": {
      "text/plain": [
       "'/kaggle/working'"
      ]
     },
     "execution_count": 2,
     "metadata": {},
     "output_type": "execute_result"
    }
   ],
   "source": [
    "import os\n",
    "os.getcwd()"
   ]
  },
  {
   "cell_type": "code",
   "execution_count": 3,
   "id": "f2a9a6ed",
   "metadata": {
    "execution": {
     "iopub.execute_input": "2023-04-01T07:44:26.284897Z",
     "iopub.status.busy": "2023-04-01T07:44:26.283857Z",
     "iopub.status.idle": "2023-04-01T07:44:26.292237Z",
     "shell.execute_reply": "2023-04-01T07:44:26.290937Z"
    },
    "papermill": {
     "duration": 0.016862,
     "end_time": "2023-04-01T07:44:26.294893",
     "exception": false,
     "start_time": "2023-04-01T07:44:26.278031",
     "status": "completed"
    },
    "tags": []
   },
   "outputs": [
    {
     "data": {
      "text/plain": [
       "['__notebook__.ipynb']"
      ]
     },
     "execution_count": 3,
     "metadata": {},
     "output_type": "execute_result"
    }
   ],
   "source": [
    "os.listdir()"
   ]
  },
  {
   "cell_type": "code",
   "execution_count": 4,
   "id": "726daf59",
   "metadata": {
    "execution": {
     "iopub.execute_input": "2023-04-01T07:44:26.306051Z",
     "iopub.status.busy": "2023-04-01T07:44:26.305676Z",
     "iopub.status.idle": "2023-04-01T07:44:26.313310Z",
     "shell.execute_reply": "2023-04-01T07:44:26.311761Z"
    },
    "papermill": {
     "duration": 0.016205,
     "end_time": "2023-04-01T07:44:26.315757",
     "exception": false,
     "start_time": "2023-04-01T07:44:26.299552",
     "status": "completed"
    },
    "tags": []
   },
   "outputs": [
    {
     "data": {
      "text/plain": [
       "['p8-gan-202303-savedmodel', 'gan-getting-started']"
      ]
     },
     "execution_count": 4,
     "metadata": {},
     "output_type": "execute_result"
    }
   ],
   "source": [
    "os.listdir('/kaggle/input')"
   ]
  },
  {
   "cell_type": "code",
   "execution_count": 5,
   "id": "46c3ec92",
   "metadata": {
    "execution": {
     "iopub.execute_input": "2023-04-01T07:44:26.327684Z",
     "iopub.status.busy": "2023-04-01T07:44:26.327036Z",
     "iopub.status.idle": "2023-04-01T07:44:26.334379Z",
     "shell.execute_reply": "2023-04-01T07:44:26.332638Z"
    },
    "papermill": {
     "duration": 0.017037,
     "end_time": "2023-04-01T07:44:26.337793",
     "exception": false,
     "start_time": "2023-04-01T07:44:26.320756",
     "status": "completed"
    },
    "tags": []
   },
   "outputs": [
    {
     "name": "stdout",
     "output_type": "stream",
     "text": [
      "path:/kaggle/working\n",
      "file:__notebook__.ipynb\n",
      "file_name:/kaggle/working/__notebook__.ipynb\n"
     ]
    }
   ],
   "source": [
    "for path, directories, files in os.walk(os.getcwd()):\n",
    "    for file in files:\n",
    "        print(\"path:\" + path)\n",
    "        print('file:' + file)\n",
    "        for file in files:\n",
    "            file_name = os.path.join(path, file)\n",
    "            print('file_name:' + file_name)"
   ]
  },
  {
   "cell_type": "code",
   "execution_count": 6,
   "id": "5da591b8",
   "metadata": {
    "execution": {
     "iopub.execute_input": "2023-04-01T07:44:26.349780Z",
     "iopub.status.busy": "2023-04-01T07:44:26.349069Z",
     "iopub.status.idle": "2023-04-01T07:44:26.354109Z",
     "shell.execute_reply": "2023-04-01T07:44:26.353211Z"
    },
    "papermill": {
     "duration": 0.013694,
     "end_time": "2023-04-01T07:44:26.356421",
     "exception": false,
     "start_time": "2023-04-01T07:44:26.342727",
     "status": "completed"
    },
    "tags": []
   },
   "outputs": [],
   "source": [
    "#path_model_dir_dataset = '../input/' + os.listdir('/kaggle/input')[1] #we need the root path /kaggle/input/ of '/kaggle/input/p8-gan-202303-savedmodel'\n",
    "path_model_dir_dataset = '../input/' + 'p8-gan-202303-savedmodel'\n",
    "gen_folder = os.path.join(path_model_dir_dataset,'training_model', \"model_generator\")\n",
    "disc_folder = os.path.join(path_model_dir_dataset,'training_model', \"model_discriminator\")"
   ]
  },
  {
   "cell_type": "code",
   "execution_count": 7,
   "id": "af27ba78",
   "metadata": {
    "execution": {
     "iopub.execute_input": "2023-04-01T07:44:26.368930Z",
     "iopub.status.busy": "2023-04-01T07:44:26.368451Z",
     "iopub.status.idle": "2023-04-01T07:44:37.267078Z",
     "shell.execute_reply": "2023-04-01T07:44:37.265669Z"
    },
    "papermill": {
     "duration": 10.908709,
     "end_time": "2023-04-01T07:44:37.270063",
     "exception": false,
     "start_time": "2023-04-01T07:44:26.361354",
     "status": "completed"
    },
    "tags": []
   },
   "outputs": [],
   "source": [
    "# Library for Data science\n",
    "\n",
    "import tensorflow as tf #NN processing\n",
    "from tensorflow import keras\n",
    "from tensorflow.keras import layers\n",
    "import tensorflow_addons as tfa\n",
    "\n",
    "from kaggle_datasets import KaggleDatasets\n",
    "import matplotlib.pyplot as plt\n",
    "import numpy as np # linear algebra\n",
    "import pandas as pd # data processing, CSV file I/O (e.g. pd.read_csv)"
   ]
  },
  {
   "cell_type": "code",
   "execution_count": 8,
   "id": "7479da18",
   "metadata": {
    "execution": {
     "iopub.execute_input": "2023-04-01T07:44:37.282313Z",
     "iopub.status.busy": "2023-04-01T07:44:37.281521Z",
     "iopub.status.idle": "2023-04-01T07:44:41.038376Z",
     "shell.execute_reply": "2023-04-01T07:44:41.036674Z"
    },
    "papermill": {
     "duration": 3.768135,
     "end_time": "2023-04-01T07:44:41.043090",
     "exception": false,
     "start_time": "2023-04-01T07:44:37.274955",
     "status": "completed"
    },
    "tags": []
   },
   "outputs": [],
   "source": [
    "test_generator = tf.keras.models.load_model(gen_folder)\n",
    "test_discriminator = tf.keras.models.load_model(disc_folder)"
   ]
  },
  {
   "cell_type": "code",
   "execution_count": 9,
   "id": "6e639bd0",
   "metadata": {
    "execution": {
     "iopub.execute_input": "2023-04-01T07:44:41.054711Z",
     "iopub.status.busy": "2023-04-01T07:44:41.054256Z",
     "iopub.status.idle": "2023-04-01T07:44:41.059793Z",
     "shell.execute_reply": "2023-04-01T07:44:41.058593Z"
    },
    "papermill": {
     "duration": 0.014798,
     "end_time": "2023-04-01T07:44:41.062806",
     "exception": false,
     "start_time": "2023-04-01T07:44:41.048008",
     "status": "completed"
    },
    "tags": []
   },
   "outputs": [],
   "source": [
    "# Create submission files"
   ]
  },
  {
   "cell_type": "code",
   "execution_count": 10,
   "id": "65ca9983",
   "metadata": {
    "execution": {
     "iopub.execute_input": "2023-04-01T07:44:41.074895Z",
     "iopub.status.busy": "2023-04-01T07:44:41.074457Z",
     "iopub.status.idle": "2023-04-01T07:44:41.081094Z",
     "shell.execute_reply": "2023-04-01T07:44:41.080112Z"
    },
    "papermill": {
     "duration": 0.015162,
     "end_time": "2023-04-01T07:44:41.083487",
     "exception": false,
     "start_time": "2023-04-01T07:44:41.068325",
     "status": "completed"
    },
    "tags": []
   },
   "outputs": [
    {
     "data": {
      "text/plain": [
       "7000"
      ]
     },
     "execution_count": 10,
     "metadata": {},
     "output_type": "execute_result"
    }
   ],
   "source": [
    "len(range(7000))"
   ]
  },
  {
   "cell_type": "code",
   "execution_count": 11,
   "id": "8df481fb",
   "metadata": {
    "execution": {
     "iopub.execute_input": "2023-04-01T07:44:41.096157Z",
     "iopub.status.busy": "2023-04-01T07:44:41.095483Z",
     "iopub.status.idle": "2023-04-01T07:44:42.217210Z",
     "shell.execute_reply": "2023-04-01T07:44:42.215313Z"
    },
    "papermill": {
     "duration": 1.131294,
     "end_time": "2023-04-01T07:44:42.220402",
     "exception": false,
     "start_time": "2023-04-01T07:44:41.089108",
     "status": "completed"
    },
    "tags": []
   },
   "outputs": [],
   "source": [
    "! mkdir ../images"
   ]
  },
  {
   "cell_type": "code",
   "execution_count": 12,
   "id": "05634726",
   "metadata": {
    "execution": {
     "iopub.execute_input": "2023-04-01T07:44:42.233499Z",
     "iopub.status.busy": "2023-04-01T07:44:42.232084Z",
     "iopub.status.idle": "2023-04-01T07:52:21.478165Z",
     "shell.execute_reply": "2023-04-01T07:52:21.476301Z"
    },
    "papermill": {
     "duration": 459.256359,
     "end_time": "2023-04-01T07:52:21.481750",
     "exception": false,
     "start_time": "2023-04-01T07:44:42.225391",
     "status": "completed"
    },
    "tags": []
   },
   "outputs": [
    {
     "name": "stderr",
     "output_type": "stream",
     "text": [
      "100%|██████████| 7000/7000 [07:39<00:00, 15.24it/s]\n"
     ]
    }
   ],
   "source": [
    "import PIL\n",
    "from tqdm import tqdm\n",
    "\n",
    "nb_images = 7000\n",
    "\n",
    "i = 1\n",
    "for img in tqdm(range(nb_images)):\n",
    "    noise = tf.random.normal([1, 100])\n",
    "    prediction = test_generator(noise, training=False)[0].numpy()\n",
    "    prediction = (prediction * 127.5 + 127.5).astype(np.uint8)\n",
    "    im = PIL.Image.fromarray(prediction)\n",
    "    im.save(\"../images/\" + str(i) + \".jpg\")\n",
    "    i += 1"
   ]
  },
  {
   "cell_type": "code",
   "execution_count": 13,
   "id": "eeb51dbf",
   "metadata": {
    "execution": {
     "iopub.execute_input": "2023-04-01T07:52:21.948193Z",
     "iopub.status.busy": "2023-04-01T07:52:21.947789Z",
     "iopub.status.idle": "2023-04-01T07:52:21.956116Z",
     "shell.execute_reply": "2023-04-01T07:52:21.954824Z"
    },
    "papermill": {
     "duration": 0.241786,
     "end_time": "2023-04-01T07:52:21.958956",
     "exception": false,
     "start_time": "2023-04-01T07:52:21.717170",
     "status": "completed"
    },
    "tags": []
   },
   "outputs": [
    {
     "data": {
      "text/plain": [
       "'\\n# View some submission images\\nimport PIL\\nfig = plt.figure(figsize=(10, 10))\\nfor i in range(9):\\n    plt.subplot(3, 3, i+1)\\n    plt.imshow(PIL.Image.open(\"../images/\" + str(i) + \".jpg\"))\\n    plt.axis(\\'off\\')\\nplt.show()'"
      ]
     },
     "execution_count": 13,
     "metadata": {},
     "output_type": "execute_result"
    }
   ],
   "source": [
    "\"\"\"\n",
    "# View some submission images\n",
    "import PIL\n",
    "fig = plt.figure(figsize=(10, 10))\n",
    "for i in range(9):\n",
    "    plt.subplot(3, 3, i+1)\n",
    "    plt.imshow(PIL.Image.open(\"../images/\" + str(i) + \".jpg\"))\n",
    "    plt.axis('off')\n",
    "plt.show()\"\"\""
   ]
  },
  {
   "cell_type": "code",
   "execution_count": 14,
   "id": "df0e8e46",
   "metadata": {
    "execution": {
     "iopub.execute_input": "2023-04-01T07:52:22.441704Z",
     "iopub.status.busy": "2023-04-01T07:52:22.441153Z",
     "iopub.status.idle": "2023-04-01T07:52:27.154070Z",
     "shell.execute_reply": "2023-04-01T07:52:27.152840Z"
    },
    "papermill": {
     "duration": 4.974879,
     "end_time": "2023-04-01T07:52:27.156880",
     "exception": false,
     "start_time": "2023-04-01T07:52:22.182001",
     "status": "completed"
    },
    "tags": []
   },
   "outputs": [
    {
     "data": {
      "text/plain": [
       "'/kaggle/working/images.zip'"
      ]
     },
     "execution_count": 14,
     "metadata": {},
     "output_type": "execute_result"
    }
   ],
   "source": [
    "import shutil\n",
    "shutil.make_archive(\"/kaggle/working/images\", 'zip', \"/kaggle/images\")"
   ]
  }
 ],
 "metadata": {
  "kernelspec": {
   "display_name": "Python 3",
   "language": "python",
   "name": "python3"
  },
  "language_info": {
   "codemirror_mode": {
    "name": "ipython",
    "version": 3
   },
   "file_extension": ".py",
   "mimetype": "text/x-python",
   "name": "python",
   "nbconvert_exporter": "python",
   "pygments_lexer": "ipython3",
   "version": "3.7.12"
  },
  "papermill": {
   "default_parameters": {},
   "duration": 496.329132,
   "end_time": "2023-04-01T07:52:30.948200",
   "environment_variables": {},
   "exception": null,
   "input_path": "__notebook__.ipynb",
   "output_path": "__notebook__.ipynb",
   "parameters": {},
   "start_time": "2023-04-01T07:44:14.619068",
   "version": "2.4.0"
  }
 },
 "nbformat": 4,
 "nbformat_minor": 5
}
