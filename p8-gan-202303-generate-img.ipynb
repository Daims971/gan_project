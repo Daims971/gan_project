{
 "cells": [
  {
   "cell_type": "code",
   "execution_count": 1,
   "id": "8ee4cb1a",
   "metadata": {
    "_cell_guid": "b1076dfc-b9ad-4769-8c92-a6c4dae69d19",
    "_uuid": "8f2839f25d086af736a60e9eeb907d3b93b6e0e5",
    "execution": {
     "iopub.execute_input": "2023-03-21T11:05:07.418397Z",
     "iopub.status.busy": "2023-03-21T11:05:07.417508Z",
     "iopub.status.idle": "2023-03-21T11:05:07.458834Z",
     "shell.execute_reply": "2023-03-21T11:05:07.457438Z"
    },
    "papermill": {
     "duration": 0.051356,
     "end_time": "2023-03-21T11:05:07.461584",
     "exception": false,
     "start_time": "2023-03-21T11:05:07.410228",
     "status": "completed"
    },
    "tags": []
   },
   "outputs": [
    {
     "name": "stdout",
     "output_type": "stream",
     "text": [
      "/kaggle/input/p8-gan-202303-savedmodel/training_model/model_generator/saved_model.pb\n",
      "/kaggle/input/p8-gan-202303-savedmodel/training_model/model_generator/keras_metadata.pb\n",
      "/kaggle/input/p8-gan-202303-savedmodel/training_model/model_generator/variables/variables.index\n",
      "/kaggle/input/p8-gan-202303-savedmodel/training_model/model_generator/variables/variables.data-00000-of-00001\n",
      "/kaggle/input/p8-gan-202303-savedmodel/training_model/model_discriminator/saved_model.pb\n",
      "/kaggle/input/p8-gan-202303-savedmodel/training_model/model_discriminator/keras_metadata.pb\n",
      "/kaggle/input/p8-gan-202303-savedmodel/training_model/model_discriminator/variables/variables.index\n",
      "/kaggle/input/p8-gan-202303-savedmodel/training_model/model_discriminator/variables/variables.data-00000-of-00001\n"
     ]
    }
   ],
   "source": [
    "# This Python 3 environment comes with many helpful analytics libraries installed\n",
    "# It is defined by the kaggle/python Docker image: https://github.com/kaggle/docker-python\n",
    "# For example, here's several helpful packages to load\n",
    "\n",
    "import numpy as np # linear algebra\n",
    "import pandas as pd # data processing, CSV file I/O (e.g. pd.read_csv)\n",
    "\n",
    "# Input data files are available in the read-only \"../input/\" directory\n",
    "# For example, running this (by clicking run or pressing Shift+Enter) will list all files under the input directory\n",
    "\n",
    "import os\n",
    "for dirname, _, filenames in os.walk('/kaggle/input'):\n",
    "    for filename in filenames:\n",
    "        print(os.path.join(dirname, filename))\n",
    "\n",
    "# You can write up to 20GB to the current directory (/kaggle/working/) that gets preserved as output when you create a version using \"Save & Run All\" \n",
    "# You can also write temporary files to /kaggle/temp/, but they won't be saved outside of the current session"
   ]
  },
  {
   "cell_type": "code",
   "execution_count": 2,
   "id": "58bd9cd1",
   "metadata": {
    "execution": {
     "iopub.execute_input": "2023-03-21T11:05:07.472258Z",
     "iopub.status.busy": "2023-03-21T11:05:07.471869Z",
     "iopub.status.idle": "2023-03-21T11:05:07.480880Z",
     "shell.execute_reply": "2023-03-21T11:05:07.479493Z"
    },
    "papermill": {
     "duration": 0.017496,
     "end_time": "2023-03-21T11:05:07.483584",
     "exception": false,
     "start_time": "2023-03-21T11:05:07.466088",
     "status": "completed"
    },
    "tags": []
   },
   "outputs": [
    {
     "data": {
      "text/plain": [
       "'/kaggle/working'"
      ]
     },
     "execution_count": 2,
     "metadata": {},
     "output_type": "execute_result"
    }
   ],
   "source": [
    "os.getcwd()"
   ]
  },
  {
   "cell_type": "code",
   "execution_count": 3,
   "id": "cb2d928e",
   "metadata": {
    "execution": {
     "iopub.execute_input": "2023-03-21T11:05:07.494378Z",
     "iopub.status.busy": "2023-03-21T11:05:07.493942Z",
     "iopub.status.idle": "2023-03-21T11:05:07.502729Z",
     "shell.execute_reply": "2023-03-21T11:05:07.501411Z"
    },
    "papermill": {
     "duration": 0.017447,
     "end_time": "2023-03-21T11:05:07.505508",
     "exception": false,
     "start_time": "2023-03-21T11:05:07.488061",
     "status": "completed"
    },
    "tags": []
   },
   "outputs": [
    {
     "data": {
      "text/plain": [
       "['__notebook__.ipynb']"
      ]
     },
     "execution_count": 3,
     "metadata": {},
     "output_type": "execute_result"
    }
   ],
   "source": [
    "os.listdir()"
   ]
  },
  {
   "cell_type": "code",
   "execution_count": 4,
   "id": "9f928f68",
   "metadata": {
    "execution": {
     "iopub.execute_input": "2023-03-21T11:05:07.516322Z",
     "iopub.status.busy": "2023-03-21T11:05:07.515913Z",
     "iopub.status.idle": "2023-03-21T11:05:07.524254Z",
     "shell.execute_reply": "2023-03-21T11:05:07.523376Z"
    },
    "papermill": {
     "duration": 0.01669,
     "end_time": "2023-03-21T11:05:07.526721",
     "exception": false,
     "start_time": "2023-03-21T11:05:07.510031",
     "status": "completed"
    },
    "tags": []
   },
   "outputs": [
    {
     "data": {
      "text/plain": [
       "['p8-gan-202303-savedmodel']"
      ]
     },
     "execution_count": 4,
     "metadata": {},
     "output_type": "execute_result"
    }
   ],
   "source": [
    "os.listdir('/kaggle/input')"
   ]
  },
  {
   "cell_type": "code",
   "execution_count": 5,
   "id": "b072414f",
   "metadata": {
    "execution": {
     "iopub.execute_input": "2023-03-21T11:05:07.537767Z",
     "iopub.status.busy": "2023-03-21T11:05:07.537388Z",
     "iopub.status.idle": "2023-03-21T11:05:07.545116Z",
     "shell.execute_reply": "2023-03-21T11:05:07.543394Z"
    },
    "papermill": {
     "duration": 0.016393,
     "end_time": "2023-03-21T11:05:07.547656",
     "exception": false,
     "start_time": "2023-03-21T11:05:07.531263",
     "status": "completed"
    },
    "tags": []
   },
   "outputs": [
    {
     "name": "stdout",
     "output_type": "stream",
     "text": [
      "path:/kaggle/working\n",
      "file:__notebook__.ipynb\n",
      "file_name:/kaggle/working/__notebook__.ipynb\n"
     ]
    }
   ],
   "source": [
    "for path, directories, files in os.walk(os.getcwd()):\n",
    "    for file in files:\n",
    "        print(\"path:\" + path)\n",
    "        print('file:' + file)\n",
    "        for file in files:\n",
    "            file_name = os.path.join(path, file)\n",
    "            print('file_name:' + file_name)"
   ]
  },
  {
   "cell_type": "code",
   "execution_count": 6,
   "id": "21d42b84",
   "metadata": {
    "execution": {
     "iopub.execute_input": "2023-03-21T11:05:07.558818Z",
     "iopub.status.busy": "2023-03-21T11:05:07.558439Z",
     "iopub.status.idle": "2023-03-21T11:05:07.564822Z",
     "shell.execute_reply": "2023-03-21T11:05:07.563366Z"
    },
    "papermill": {
     "duration": 0.015366,
     "end_time": "2023-03-21T11:05:07.567623",
     "exception": false,
     "start_time": "2023-03-21T11:05:07.552257",
     "status": "completed"
    },
    "tags": []
   },
   "outputs": [],
   "source": [
    "path_model_dir_dataset = '../input/' + os.listdir('/kaggle/input')[0] #we need the root path /kaggle/input/ of '/kaggle/input/p8-gan-202303-savedmodel'\n",
    "gen_folder = os.path.join(path_model_dir_dataset,'training_model', \"model_generator\")\n",
    "disc_folder = os.path.join(path_model_dir_dataset,'training_model', \"model_discriminator\")"
   ]
  },
  {
   "cell_type": "code",
   "execution_count": 7,
   "id": "9cc1b26b",
   "metadata": {
    "execution": {
     "iopub.execute_input": "2023-03-21T11:05:07.579446Z",
     "iopub.status.busy": "2023-03-21T11:05:07.578507Z",
     "iopub.status.idle": "2023-03-21T11:05:18.147366Z",
     "shell.execute_reply": "2023-03-21T11:05:18.145838Z"
    },
    "papermill": {
     "duration": 10.578118,
     "end_time": "2023-03-21T11:05:18.150535",
     "exception": false,
     "start_time": "2023-03-21T11:05:07.572417",
     "status": "completed"
    },
    "tags": []
   },
   "outputs": [],
   "source": [
    "# Library for Data science\n",
    "\n",
    "import tensorflow as tf #NN processing\n",
    "from tensorflow import keras\n",
    "from tensorflow.keras import layers\n",
    "import tensorflow_addons as tfa\n",
    "\n",
    "from kaggle_datasets import KaggleDatasets\n",
    "import matplotlib.pyplot as plt\n",
    "import numpy as np # linear algebra\n",
    "import pandas as pd # data processing, CSV file I/O (e.g. pd.read_csv)"
   ]
  },
  {
   "cell_type": "code",
   "execution_count": 8,
   "id": "f86673ad",
   "metadata": {
    "execution": {
     "iopub.execute_input": "2023-03-21T11:05:18.162242Z",
     "iopub.status.busy": "2023-03-21T11:05:18.161467Z",
     "iopub.status.idle": "2023-03-21T11:05:26.907870Z",
     "shell.execute_reply": "2023-03-21T11:05:26.906440Z"
    },
    "papermill": {
     "duration": 8.75536,
     "end_time": "2023-03-21T11:05:26.910744",
     "exception": false,
     "start_time": "2023-03-21T11:05:18.155384",
     "status": "completed"
    },
    "tags": []
   },
   "outputs": [
    {
     "name": "stderr",
     "output_type": "stream",
     "text": [
      "/opt/conda/lib/python3.7/site-packages/keras/initializers/initializers_v2.py:121: UserWarning: The initializer RandomNormal is unseeded and being called multiple times, which will return identical values  each time (even if the initializer is unseeded). Please update your code to provide a seed to the initializer, or avoid using the same initalizer instance more than once.\n",
      "  f\"The initializer {self.__class__.__name__} is unseeded \"\n"
     ]
    }
   ],
   "source": [
    "test_generator = tf.keras.models.load_model(gen_folder)\n",
    "test_discriminator = tf.keras.models.load_model(disc_folder)"
   ]
  },
  {
   "cell_type": "code",
   "execution_count": 9,
   "id": "39a79f59",
   "metadata": {
    "execution": {
     "iopub.execute_input": "2023-03-21T11:05:26.923828Z",
     "iopub.status.busy": "2023-03-21T11:05:26.922722Z",
     "iopub.status.idle": "2023-03-21T11:05:26.928611Z",
     "shell.execute_reply": "2023-03-21T11:05:26.927397Z"
    },
    "papermill": {
     "duration": 0.015421,
     "end_time": "2023-03-21T11:05:26.931461",
     "exception": false,
     "start_time": "2023-03-21T11:05:26.916040",
     "status": "completed"
    },
    "tags": []
   },
   "outputs": [],
   "source": [
    "# Create submission files"
   ]
  },
  {
   "cell_type": "code",
   "execution_count": 10,
   "id": "c4d72519",
   "metadata": {
    "execution": {
     "iopub.execute_input": "2023-03-21T11:05:26.944149Z",
     "iopub.status.busy": "2023-03-21T11:05:26.943707Z",
     "iopub.status.idle": "2023-03-21T11:05:26.952006Z",
     "shell.execute_reply": "2023-03-21T11:05:26.950633Z"
    },
    "papermill": {
     "duration": 0.018127,
     "end_time": "2023-03-21T11:05:26.954596",
     "exception": false,
     "start_time": "2023-03-21T11:05:26.936469",
     "status": "completed"
    },
    "tags": []
   },
   "outputs": [
    {
     "data": {
      "text/plain": [
       "7000"
      ]
     },
     "execution_count": 10,
     "metadata": {},
     "output_type": "execute_result"
    }
   ],
   "source": [
    "len(range(7000))"
   ]
  },
  {
   "cell_type": "code",
   "execution_count": 11,
   "id": "63a94646",
   "metadata": {
    "execution": {
     "iopub.execute_input": "2023-03-21T11:05:26.967493Z",
     "iopub.status.busy": "2023-03-21T11:05:26.966264Z",
     "iopub.status.idle": "2023-03-21T11:05:28.089187Z",
     "shell.execute_reply": "2023-03-21T11:05:28.087361Z"
    },
    "papermill": {
     "duration": 1.132492,
     "end_time": "2023-03-21T11:05:28.092322",
     "exception": false,
     "start_time": "2023-03-21T11:05:26.959830",
     "status": "completed"
    },
    "tags": []
   },
   "outputs": [],
   "source": [
    "! mkdir ../images"
   ]
  },
  {
   "cell_type": "code",
   "execution_count": 12,
   "id": "430f84aa",
   "metadata": {
    "execution": {
     "iopub.execute_input": "2023-03-21T11:05:28.104929Z",
     "iopub.status.busy": "2023-03-21T11:05:28.104112Z",
     "iopub.status.idle": "2023-03-21T11:29:46.300572Z",
     "shell.execute_reply": "2023-03-21T11:29:46.299099Z"
    },
    "papermill": {
     "duration": 1458.205943,
     "end_time": "2023-03-21T11:29:46.303302",
     "exception": false,
     "start_time": "2023-03-21T11:05:28.097359",
     "status": "completed"
    },
    "tags": []
   },
   "outputs": [
    {
     "name": "stderr",
     "output_type": "stream",
     "text": [
      "100%|██████████| 7000/7000 [24:18<00:00,  4.80it/s]\n"
     ]
    }
   ],
   "source": [
    "import PIL\n",
    "from tqdm import tqdm\n",
    "\n",
    "nb_images = 7000\n",
    "\n",
    "i = 1\n",
    "for img in tqdm(range(nb_images)):\n",
    "    noise = tf.random.normal([1, 100])\n",
    "    prediction = test_generator(noise, training=False)[0].numpy()\n",
    "    prediction = (prediction * 127.5 + 127.5).astype(np.uint8)\n",
    "    im = PIL.Image.fromarray(prediction)\n",
    "    im.save(\"../images/\" + str(i) + \".jpg\")\n",
    "    i += 1"
   ]
  },
  {
   "cell_type": "code",
   "execution_count": 13,
   "id": "d6f8be0e",
   "metadata": {
    "execution": {
     "iopub.execute_input": "2023-03-21T11:29:47.185355Z",
     "iopub.status.busy": "2023-03-21T11:29:47.184699Z",
     "iopub.status.idle": "2023-03-21T11:29:54.246053Z",
     "shell.execute_reply": "2023-03-21T11:29:54.244880Z"
    },
    "papermill": {
     "duration": 7.507238,
     "end_time": "2023-03-21T11:29:54.248786",
     "exception": false,
     "start_time": "2023-03-21T11:29:46.741548",
     "status": "completed"
    },
    "tags": []
   },
   "outputs": [
    {
     "data": {
      "text/plain": [
       "'/kaggle/working/images.zip'"
      ]
     },
     "execution_count": 13,
     "metadata": {},
     "output_type": "execute_result"
    }
   ],
   "source": [
    "import shutil\n",
    "shutil.make_archive(\"/kaggle/working/images\", 'zip', \"/kaggle/images\")"
   ]
  },
  {
   "cell_type": "code",
   "execution_count": null,
   "id": "c8bd80e0",
   "metadata": {
    "papermill": {
     "duration": 0.437531,
     "end_time": "2023-03-21T11:29:55.185928",
     "exception": false,
     "start_time": "2023-03-21T11:29:54.748397",
     "status": "completed"
    },
    "tags": []
   },
   "outputs": [],
   "source": []
  }
 ],
 "metadata": {
  "kernelspec": {
   "display_name": "Python 3",
   "language": "python",
   "name": "python3"
  },
  "language_info": {
   "codemirror_mode": {
    "name": "ipython",
    "version": 3
   },
   "file_extension": ".py",
   "mimetype": "text/x-python",
   "name": "python",
   "nbconvert_exporter": "python",
   "pygments_lexer": "ipython3",
   "version": "3.7.12"
  },
  "papermill": {
   "default_parameters": {},
   "duration": 1502.371795,
   "end_time": "2023-03-21T11:29:58.734358",
   "environment_variables": {},
   "exception": null,
   "input_path": "__notebook__.ipynb",
   "output_path": "__notebook__.ipynb",
   "parameters": {},
   "start_time": "2023-03-21T11:04:56.362563",
   "version": "2.4.0"
  }
 },
 "nbformat": 4,
 "nbformat_minor": 5
}
