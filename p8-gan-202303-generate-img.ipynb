{
 "cells": [
  {
   "cell_type": "code",
   "execution_count": 1,
   "id": "4f7d623f",
   "metadata": {
    "_cell_guid": "b1076dfc-b9ad-4769-8c92-a6c4dae69d19",
    "_uuid": "8f2839f25d086af736a60e9eeb907d3b93b6e0e5",
    "execution": {
     "iopub.execute_input": "2023-03-22T10:00:15.356922Z",
     "iopub.status.busy": "2023-03-22T10:00:15.356008Z",
     "iopub.status.idle": "2023-03-22T10:00:15.374643Z",
     "shell.execute_reply": "2023-03-22T10:00:15.372338Z"
    },
    "papermill": {
     "duration": 0.029703,
     "end_time": "2023-03-22T10:00:15.378326",
     "exception": false,
     "start_time": "2023-03-22T10:00:15.348623",
     "status": "completed"
    },
    "tags": []
   },
   "outputs": [
    {
     "data": {
      "text/plain": [
       "\"\\nimport os\\nfor dirname, _, filenames in os.walk('/kaggle/input'):\\n    for filename in filenames:\\n        print(os.path.join(dirname, filename))\""
      ]
     },
     "execution_count": 1,
     "metadata": {},
     "output_type": "execute_result"
    }
   ],
   "source": [
    "# This Python 3 environment comes with many helpful analytics libraries installed\n",
    "# It is defined by the kaggle/python Docker image: https://github.com/kaggle/docker-python\n",
    "# For example, here's several helpful packages to load\n",
    "\n",
    "import numpy as np # linear algebra\n",
    "import pandas as pd # data processing, CSV file I/O (e.g. pd.read_csv)\n",
    "\n",
    "# Input data files are available in the read-only \"../input/\" directory\n",
    "# For example, running this (by clicking run or pressing Shift+Enter) will list all files under the input directory\n",
    "\n",
    "\"\"\"\n",
    "import os\n",
    "for dirname, _, filenames in os.walk('/kaggle/input'):\n",
    "    for filename in filenames:\n",
    "        print(os.path.join(dirname, filename))\"\"\"\n",
    "\n",
    "# You can write up to 20GB to the current directory (/kaggle/working/) that gets preserved as output when you create a version using \"Save & Run All\" \n",
    "# You can also write temporary files to /kaggle/temp/, but they won't be saved outside of the current session"
   ]
  },
  {
   "cell_type": "code",
   "execution_count": 2,
   "id": "5a664e37",
   "metadata": {
    "execution": {
     "iopub.execute_input": "2023-03-22T10:00:15.391686Z",
     "iopub.status.busy": "2023-03-22T10:00:15.391134Z",
     "iopub.status.idle": "2023-03-22T10:00:15.403901Z",
     "shell.execute_reply": "2023-03-22T10:00:15.402197Z"
    },
    "papermill": {
     "duration": 0.023442,
     "end_time": "2023-03-22T10:00:15.406619",
     "exception": false,
     "start_time": "2023-03-22T10:00:15.383177",
     "status": "completed"
    },
    "tags": []
   },
   "outputs": [
    {
     "data": {
      "text/plain": [
       "'/kaggle/working'"
      ]
     },
     "execution_count": 2,
     "metadata": {},
     "output_type": "execute_result"
    }
   ],
   "source": [
    "import os\n",
    "os.getcwd()"
   ]
  },
  {
   "cell_type": "code",
   "execution_count": 3,
   "id": "0ca45bdd",
   "metadata": {
    "execution": {
     "iopub.execute_input": "2023-03-22T10:00:15.420543Z",
     "iopub.status.busy": "2023-03-22T10:00:15.420071Z",
     "iopub.status.idle": "2023-03-22T10:00:15.429056Z",
     "shell.execute_reply": "2023-03-22T10:00:15.427204Z"
    },
    "papermill": {
     "duration": 0.020913,
     "end_time": "2023-03-22T10:00:15.433170",
     "exception": false,
     "start_time": "2023-03-22T10:00:15.412257",
     "status": "completed"
    },
    "tags": []
   },
   "outputs": [
    {
     "data": {
      "text/plain": [
       "['__notebook__.ipynb']"
      ]
     },
     "execution_count": 3,
     "metadata": {},
     "output_type": "execute_result"
    }
   ],
   "source": [
    "os.listdir()"
   ]
  },
  {
   "cell_type": "code",
   "execution_count": 4,
   "id": "d6fcef6e",
   "metadata": {
    "execution": {
     "iopub.execute_input": "2023-03-22T10:00:15.446757Z",
     "iopub.status.busy": "2023-03-22T10:00:15.445584Z",
     "iopub.status.idle": "2023-03-22T10:00:15.456408Z",
     "shell.execute_reply": "2023-03-22T10:00:15.454548Z"
    },
    "papermill": {
     "duration": 0.021155,
     "end_time": "2023-03-22T10:00:15.460216",
     "exception": false,
     "start_time": "2023-03-22T10:00:15.439061",
     "status": "completed"
    },
    "tags": []
   },
   "outputs": [
    {
     "data": {
      "text/plain": [
       "['gan-getting-started', 'p8-gan-202303-savedmodel']"
      ]
     },
     "execution_count": 4,
     "metadata": {},
     "output_type": "execute_result"
    }
   ],
   "source": [
    "os.listdir('/kaggle/input')"
   ]
  },
  {
   "cell_type": "code",
   "execution_count": 5,
   "id": "f7a9d83b",
   "metadata": {
    "execution": {
     "iopub.execute_input": "2023-03-22T10:00:15.474040Z",
     "iopub.status.busy": "2023-03-22T10:00:15.473115Z",
     "iopub.status.idle": "2023-03-22T10:00:15.482487Z",
     "shell.execute_reply": "2023-03-22T10:00:15.480990Z"
    },
    "papermill": {
     "duration": 0.020262,
     "end_time": "2023-03-22T10:00:15.485936",
     "exception": false,
     "start_time": "2023-03-22T10:00:15.465674",
     "status": "completed"
    },
    "tags": []
   },
   "outputs": [
    {
     "name": "stdout",
     "output_type": "stream",
     "text": [
      "path:/kaggle/working\n",
      "file:__notebook__.ipynb\n",
      "file_name:/kaggle/working/__notebook__.ipynb\n"
     ]
    }
   ],
   "source": [
    "for path, directories, files in os.walk(os.getcwd()):\n",
    "    for file in files:\n",
    "        print(\"path:\" + path)\n",
    "        print('file:' + file)\n",
    "        for file in files:\n",
    "            file_name = os.path.join(path, file)\n",
    "            print('file_name:' + file_name)"
   ]
  },
  {
   "cell_type": "code",
   "execution_count": 6,
   "id": "b04a9b00",
   "metadata": {
    "execution": {
     "iopub.execute_input": "2023-03-22T10:00:15.500409Z",
     "iopub.status.busy": "2023-03-22T10:00:15.499923Z",
     "iopub.status.idle": "2023-03-22T10:00:15.506935Z",
     "shell.execute_reply": "2023-03-22T10:00:15.505394Z"
    },
    "papermill": {
     "duration": 0.017611,
     "end_time": "2023-03-22T10:00:15.509939",
     "exception": false,
     "start_time": "2023-03-22T10:00:15.492328",
     "status": "completed"
    },
    "tags": []
   },
   "outputs": [],
   "source": [
    "#path_model_dir_dataset = '../input/' + os.listdir('/kaggle/input')[1] #we need the root path /kaggle/input/ of '/kaggle/input/p8-gan-202303-savedmodel'\n",
    "path_model_dir_dataset = '../input/' + 'p8-gan-202303-savedmodel'\n",
    "gen_folder = os.path.join(path_model_dir_dataset,'training_model', \"model_generator\")\n",
    "disc_folder = os.path.join(path_model_dir_dataset,'training_model', \"model_discriminator\")"
   ]
  },
  {
   "cell_type": "code",
   "execution_count": 7,
   "id": "48cb4333",
   "metadata": {
    "execution": {
     "iopub.execute_input": "2023-03-22T10:00:15.523168Z",
     "iopub.status.busy": "2023-03-22T10:00:15.522740Z",
     "iopub.status.idle": "2023-03-22T10:00:31.263802Z",
     "shell.execute_reply": "2023-03-22T10:00:31.259869Z"
    },
    "papermill": {
     "duration": 15.751408,
     "end_time": "2023-03-22T10:00:31.267421",
     "exception": false,
     "start_time": "2023-03-22T10:00:15.516013",
     "status": "completed"
    },
    "tags": []
   },
   "outputs": [],
   "source": [
    "# Library for Data science\n",
    "\n",
    "import tensorflow as tf #NN processing\n",
    "from tensorflow import keras\n",
    "from tensorflow.keras import layers\n",
    "import tensorflow_addons as tfa\n",
    "\n",
    "from kaggle_datasets import KaggleDatasets\n",
    "import matplotlib.pyplot as plt\n",
    "import numpy as np # linear algebra\n",
    "import pandas as pd # data processing, CSV file I/O (e.g. pd.read_csv)"
   ]
  },
  {
   "cell_type": "code",
   "execution_count": 8,
   "id": "03cc1b67",
   "metadata": {
    "execution": {
     "iopub.execute_input": "2023-03-22T10:00:31.283109Z",
     "iopub.status.busy": "2023-03-22T10:00:31.282204Z",
     "iopub.status.idle": "2023-03-22T10:00:44.265722Z",
     "shell.execute_reply": "2023-03-22T10:00:44.263267Z"
    },
    "papermill": {
     "duration": 12.998382,
     "end_time": "2023-03-22T10:00:44.272326",
     "exception": false,
     "start_time": "2023-03-22T10:00:31.273944",
     "status": "completed"
    },
    "tags": []
   },
   "outputs": [
    {
     "name": "stderr",
     "output_type": "stream",
     "text": [
      "/opt/conda/lib/python3.7/site-packages/keras/initializers/initializers_v2.py:121: UserWarning: The initializer RandomNormal is unseeded and being called multiple times, which will return identical values  each time (even if the initializer is unseeded). Please update your code to provide a seed to the initializer, or avoid using the same initalizer instance more than once.\n",
      "  f\"The initializer {self.__class__.__name__} is unseeded \"\n"
     ]
    }
   ],
   "source": [
    "test_generator = tf.keras.models.load_model(gen_folder)\n",
    "test_discriminator = tf.keras.models.load_model(disc_folder)"
   ]
  },
  {
   "cell_type": "code",
   "execution_count": 9,
   "id": "c300c430",
   "metadata": {
    "execution": {
     "iopub.execute_input": "2023-03-22T10:00:44.286431Z",
     "iopub.status.busy": "2023-03-22T10:00:44.285880Z",
     "iopub.status.idle": "2023-03-22T10:00:44.293078Z",
     "shell.execute_reply": "2023-03-22T10:00:44.290576Z"
    },
    "papermill": {
     "duration": 0.019229,
     "end_time": "2023-03-22T10:00:44.296733",
     "exception": false,
     "start_time": "2023-03-22T10:00:44.277504",
     "status": "completed"
    },
    "tags": []
   },
   "outputs": [],
   "source": [
    "# Create submission files"
   ]
  },
  {
   "cell_type": "code",
   "execution_count": 10,
   "id": "41a057ea",
   "metadata": {
    "execution": {
     "iopub.execute_input": "2023-03-22T10:00:44.309934Z",
     "iopub.status.busy": "2023-03-22T10:00:44.309391Z",
     "iopub.status.idle": "2023-03-22T10:00:44.319802Z",
     "shell.execute_reply": "2023-03-22T10:00:44.317710Z"
    },
    "papermill": {
     "duration": 0.021358,
     "end_time": "2023-03-22T10:00:44.323205",
     "exception": false,
     "start_time": "2023-03-22T10:00:44.301847",
     "status": "completed"
    },
    "tags": []
   },
   "outputs": [
    {
     "data": {
      "text/plain": [
       "7000"
      ]
     },
     "execution_count": 10,
     "metadata": {},
     "output_type": "execute_result"
    }
   ],
   "source": [
    "len(range(7000))"
   ]
  },
  {
   "cell_type": "code",
   "execution_count": 11,
   "id": "6ab83b7a",
   "metadata": {
    "execution": {
     "iopub.execute_input": "2023-03-22T10:00:44.338132Z",
     "iopub.status.busy": "2023-03-22T10:00:44.336350Z",
     "iopub.status.idle": "2023-03-22T10:00:45.568686Z",
     "shell.execute_reply": "2023-03-22T10:00:45.566926Z"
    },
    "papermill": {
     "duration": 1.243249,
     "end_time": "2023-03-22T10:00:45.572042",
     "exception": false,
     "start_time": "2023-03-22T10:00:44.328793",
     "status": "completed"
    },
    "tags": []
   },
   "outputs": [],
   "source": [
    "! mkdir ../images"
   ]
  },
  {
   "cell_type": "code",
   "execution_count": 12,
   "id": "0d11a625",
   "metadata": {
    "execution": {
     "iopub.execute_input": "2023-03-22T10:00:45.585788Z",
     "iopub.status.busy": "2023-03-22T10:00:45.585253Z",
     "iopub.status.idle": "2023-03-22T10:24:50.479620Z",
     "shell.execute_reply": "2023-03-22T10:24:50.478077Z"
    },
    "papermill": {
     "duration": 1444.906057,
     "end_time": "2023-03-22T10:24:50.483489",
     "exception": false,
     "start_time": "2023-03-22T10:00:45.577432",
     "status": "completed"
    },
    "tags": []
   },
   "outputs": [
    {
     "name": "stderr",
     "output_type": "stream",
     "text": [
      "100%|██████████| 7000/7000 [24:04<00:00,  4.84it/s]\n"
     ]
    }
   ],
   "source": [
    "import PIL\n",
    "from tqdm import tqdm\n",
    "\n",
    "nb_images = 7000\n",
    "\n",
    "i = 1\n",
    "for img in tqdm(range(nb_images)):\n",
    "    noise = tf.random.normal([1, 100])\n",
    "    prediction = test_generator(noise, training=False)[0].numpy()\n",
    "    prediction = (prediction * 127.5 + 127.5).astype(np.uint8)\n",
    "    im = PIL.Image.fromarray(prediction)\n",
    "    im.save(\"../images/\" + str(i) + \".jpg\")\n",
    "    i += 1"
   ]
  },
  {
   "cell_type": "code",
   "execution_count": 13,
   "id": "b8b59a90",
   "metadata": {
    "execution": {
     "iopub.execute_input": "2023-03-22T10:24:51.421864Z",
     "iopub.status.busy": "2023-03-22T10:24:51.420977Z",
     "iopub.status.idle": "2023-03-22T10:25:01.145101Z",
     "shell.execute_reply": "2023-03-22T10:25:01.143834Z"
    },
    "papermill": {
     "duration": 10.164788,
     "end_time": "2023-03-22T10:25:01.147748",
     "exception": false,
     "start_time": "2023-03-22T10:24:50.982960",
     "status": "completed"
    },
    "tags": []
   },
   "outputs": [
    {
     "data": {
      "text/plain": [
       "'/kaggle/working/images.zip'"
      ]
     },
     "execution_count": 13,
     "metadata": {},
     "output_type": "execute_result"
    }
   ],
   "source": [
    "import shutil\n",
    "shutil.make_archive(\"/kaggle/working/images\", 'zip', \"/kaggle/images\")"
   ]
  },
  {
   "cell_type": "code",
   "execution_count": null,
   "id": "2e653ada",
   "metadata": {
    "papermill": {
     "duration": 0.499158,
     "end_time": "2023-03-22T10:25:02.084154",
     "exception": false,
     "start_time": "2023-03-22T10:25:01.584996",
     "status": "completed"
    },
    "tags": []
   },
   "outputs": [],
   "source": []
  }
 ],
 "metadata": {
  "kernelspec": {
   "display_name": "Python 3",
   "language": "python",
   "name": "python3"
  },
  "language_info": {
   "codemirror_mode": {
    "name": "ipython",
    "version": 3
   },
   "file_extension": ".py",
   "mimetype": "text/x-python",
   "name": "python",
   "nbconvert_exporter": "python",
   "pygments_lexer": "ipython3",
   "version": "3.7.12"
  },
  "papermill": {
   "default_parameters": {},
   "duration": 1506.526722,
   "end_time": "2023-03-22T10:25:06.058383",
   "environment_variables": {},
   "exception": null,
   "input_path": "__notebook__.ipynb",
   "output_path": "__notebook__.ipynb",
   "parameters": {},
   "start_time": "2023-03-22T09:59:59.531661",
   "version": "2.4.0"
  }
 },
 "nbformat": 4,
 "nbformat_minor": 5
}
